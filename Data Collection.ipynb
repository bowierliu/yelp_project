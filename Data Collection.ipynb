{
 "cells": [
  {
   "cell_type": "markdown",
   "id": "6bcb2e1c",
   "metadata": {
    "id": "6bcb2e1c"
   },
   "source": [
    "<br>\n",
    "\n",
    "# Milestone1_1. Data Collection\n",
    "\n",
    "## Team #30"
   ]
  },
  {
   "cell_type": "code",
   "execution_count": 1,
   "id": "95e3b264-0e33-45ab-b161-120b56b4cf41",
   "metadata": {
    "id": "95e3b264-0e33-45ab-b161-120b56b4cf41"
   },
   "outputs": [
    {
     "name": "stdout",
     "output_type": "stream",
     "text": [
      "Intel MKL WARNING: Support of Intel(R) Streaming SIMD Extensions 4.2 (Intel(R) SSE4.2) enabled only processors has been deprecated. Intel oneAPI Math Kernel Library 2025.0 will require Intel(R) Advanced Vector Extensions (Intel(R) AVX) instructions.\n",
      "Intel MKL WARNING: Support of Intel(R) Streaming SIMD Extensions 4.2 (Intel(R) SSE4.2) enabled only processors has been deprecated. Intel oneAPI Math Kernel Library 2025.0 will require Intel(R) Advanced Vector Extensions (Intel(R) AVX) instructions.\n"
     ]
    }
   ],
   "source": [
    "import pandas as pd\n",
    "import json\n",
    "import requests"
   ]
  },
  {
   "cell_type": "markdown",
   "id": "c7aac0d4",
   "metadata": {
    "id": "c7aac0d4"
   },
   "source": [
    "<br>\n",
    "\n",
    "## 1.1. Load & Check Original Yelp Academic Data\n",
    "\n",
    "Source: https://www.yelp.com/dataset/download\n",
    "\n",
    "Google drive: https://drive.google.com/drive/u/0/folders/1XYDq_uKP3-SZCPCvuyfTZzs8v_yvULj3"
   ]
  },
  {
   "cell_type": "code",
   "execution_count": 2,
   "id": "dbeb694b",
   "metadata": {
    "colab": {
     "base_uri": "https://localhost:8080/",
     "height": 246
    },
    "executionInfo": {
     "elapsed": 7,
     "status": "error",
     "timestamp": 1705964408787,
     "user": {
      "displayName": "Bowie Liu",
      "userId": "07784455562572423781"
     },
     "user_tz": 480
    },
    "id": "dbeb694b",
    "outputId": "a79e16e7-4b0f-4ce9-e558-a472f0d89e9f"
   },
   "outputs": [],
   "source": [
    "# Import yelp business data\n",
    "# It takes quite some time\n",
    "\n",
    "business_data = []\n",
    "with open('data/yelp_academic_dataset_business.json') as f:\n",
    "    for line in f:\n",
    "        business_data.append(json.loads(line))\n",
    "\n",
    "#importing yelp checkin data\n",
    "checkin_data = []\n",
    "with open('data/yelp_academic_dataset_checkin.json') as f:\n",
    "    for line in f:\n",
    "        checkin_data.append(json.loads(line))\n",
    "\n",
    "#importing yelp review data\n",
    "review_data = []\n",
    "with open('data/yelp_academic_dataset_review.json') as f:\n",
    "    for line in f:\n",
    "        review_data.append(json.loads(line))\n",
    "\n",
    "#importing yelp tip data\n",
    "tip_data = []\n",
    "with open('data/yelp_academic_dataset_tip.json') as f:\n",
    "    for line in f:\n",
    "        tip_data.append(json.loads(line))\n",
    "\n",
    "#importing yelp user data\n",
    "user_data = []\n",
    "with open('data/yelp_academic_dataset_user.json') as f:\n",
    "    for line in f:\n",
    "        user_data.append(json.loads(line))\n",
    "\n",
    "#creating business dataframe from json format\n",
    "business_df = pd.DataFrame(business_data)\n",
    "\n",
    "#creating checkin dataframe from json format\n",
    "checkin_df = pd.DataFrame(checkin_data)\n",
    "\n",
    "#creating review dataframe from json format\n",
    "review_df = pd.DataFrame(review_data)\n",
    "\n",
    "#creating tip dataframe from json format\n",
    "tip_df = pd.DataFrame(tip_data)\n",
    "\n",
    "#creating user dataframe from json format\n",
    "user_df = pd.DataFrame(user_data)"
   ]
  },
  {
   "cell_type": "code",
   "execution_count": 3,
   "id": "e14f8668",
   "metadata": {
    "id": "e14f8668",
    "outputId": "8bd9df1f-5369-410b-fc18-80226813ad78"
   },
   "outputs": [
    {
     "name": "stdout",
     "output_type": "stream",
     "text": [
      "Index(['business_id', 'name', 'address', 'city', 'state', 'postal_code',\n",
      "       'latitude', 'longitude', 'stars', 'review_count', 'is_open',\n",
      "       'attributes', 'categories', 'hours'],\n",
      "      dtype='object')\n",
      "data shape: (150346, 14)\n",
      "unique business ids: 150346\n"
     ]
    },
    {
     "data": {
      "text/html": [
       "<div>\n",
       "<style scoped>\n",
       "    .dataframe tbody tr th:only-of-type {\n",
       "        vertical-align: middle;\n",
       "    }\n",
       "\n",
       "    .dataframe tbody tr th {\n",
       "        vertical-align: top;\n",
       "    }\n",
       "\n",
       "    .dataframe thead th {\n",
       "        text-align: right;\n",
       "    }\n",
       "</style>\n",
       "<table border=\"1\" class=\"dataframe\">\n",
       "  <thead>\n",
       "    <tr style=\"text-align: right;\">\n",
       "      <th></th>\n",
       "      <th>business_id</th>\n",
       "      <th>name</th>\n",
       "      <th>address</th>\n",
       "      <th>city</th>\n",
       "      <th>state</th>\n",
       "      <th>postal_code</th>\n",
       "      <th>latitude</th>\n",
       "      <th>longitude</th>\n",
       "      <th>stars</th>\n",
       "      <th>review_count</th>\n",
       "      <th>is_open</th>\n",
       "      <th>attributes</th>\n",
       "      <th>categories</th>\n",
       "      <th>hours</th>\n",
       "    </tr>\n",
       "  </thead>\n",
       "  <tbody>\n",
       "    <tr>\n",
       "      <th>0</th>\n",
       "      <td>Pns2l4eNsfO8kk83dixA6A</td>\n",
       "      <td>Abby Rappoport, LAC, CMQ</td>\n",
       "      <td>1616 Chapala St, Ste 2</td>\n",
       "      <td>Santa Barbara</td>\n",
       "      <td>CA</td>\n",
       "      <td>93101</td>\n",
       "      <td>34.426679</td>\n",
       "      <td>-119.711197</td>\n",
       "      <td>5.0</td>\n",
       "      <td>7</td>\n",
       "      <td>0</td>\n",
       "      <td>{'ByAppointmentOnly': 'True'}</td>\n",
       "      <td>Doctors, Traditional Chinese Medicine, Naturop...</td>\n",
       "      <td>None</td>\n",
       "    </tr>\n",
       "    <tr>\n",
       "      <th>1</th>\n",
       "      <td>mpf3x-BjTdTEA3yCZrAYPw</td>\n",
       "      <td>The UPS Store</td>\n",
       "      <td>87 Grasso Plaza Shopping Center</td>\n",
       "      <td>Affton</td>\n",
       "      <td>MO</td>\n",
       "      <td>63123</td>\n",
       "      <td>38.551126</td>\n",
       "      <td>-90.335695</td>\n",
       "      <td>3.0</td>\n",
       "      <td>15</td>\n",
       "      <td>1</td>\n",
       "      <td>{'BusinessAcceptsCreditCards': 'True'}</td>\n",
       "      <td>Shipping Centers, Local Services, Notaries, Ma...</td>\n",
       "      <td>{'Monday': '0:0-0:0', 'Tuesday': '8:0-18:30', ...</td>\n",
       "    </tr>\n",
       "  </tbody>\n",
       "</table>\n",
       "</div>"
      ],
      "text/plain": [
       "              business_id                      name  \\\n",
       "0  Pns2l4eNsfO8kk83dixA6A  Abby Rappoport, LAC, CMQ   \n",
       "1  mpf3x-BjTdTEA3yCZrAYPw             The UPS Store   \n",
       "\n",
       "                           address           city state postal_code  \\\n",
       "0           1616 Chapala St, Ste 2  Santa Barbara    CA       93101   \n",
       "1  87 Grasso Plaza Shopping Center         Affton    MO       63123   \n",
       "\n",
       "    latitude   longitude  stars  review_count  is_open  \\\n",
       "0  34.426679 -119.711197    5.0             7        0   \n",
       "1  38.551126  -90.335695    3.0            15        1   \n",
       "\n",
       "                               attributes  \\\n",
       "0           {'ByAppointmentOnly': 'True'}   \n",
       "1  {'BusinessAcceptsCreditCards': 'True'}   \n",
       "\n",
       "                                          categories  \\\n",
       "0  Doctors, Traditional Chinese Medicine, Naturop...   \n",
       "1  Shipping Centers, Local Services, Notaries, Ma...   \n",
       "\n",
       "                                               hours  \n",
       "0                                               None  \n",
       "1  {'Monday': '0:0-0:0', 'Tuesday': '8:0-18:30', ...  "
      ]
     },
     "execution_count": 3,
     "metadata": {},
     "output_type": "execute_result"
    }
   ],
   "source": [
    "# Check business dataframe - columns, shape, and unique business_id\n",
    "print(business_df.columns)\n",
    "print(f'data shape: {business_df.shape}')\n",
    "print(f'unique business ids: {business_df.business_id.nunique()}')\n",
    "business_df.head(2)"
   ]
  },
  {
   "cell_type": "code",
   "execution_count": 4,
   "id": "319430dc",
   "metadata": {
    "id": "319430dc",
    "outputId": "9358e371-3cf4-4266-e60d-18fced9094fc"
   },
   "outputs": [
    {
     "data": {
      "text/plain": [
       "array(['CA', 'MO', 'AZ', 'PA', 'TN', 'FL', 'IN', 'LA', 'AB', 'NV', 'ID',\n",
       "       'DE', 'IL', 'NJ', 'NC', 'CO', 'WA', 'HI', 'UT', 'TX', 'MT', 'MI',\n",
       "       'SD', 'XMS', 'MA', 'VI', 'VT'], dtype=object)"
      ]
     },
     "execution_count": 4,
     "metadata": {},
     "output_type": "execute_result"
    }
   ],
   "source": [
    "# Check non-US locations\n",
    "business_df.state.unique()"
   ]
  },
  {
   "cell_type": "code",
   "execution_count": 5,
   "id": "56341aa5",
   "metadata": {
    "id": "56341aa5",
    "outputId": "a040863c-ea94-485f-90a2-76ed38f616a4"
   },
   "outputs": [
    {
     "data": {
      "text/plain": [
       "1"
      ]
     },
     "execution_count": 5,
     "metadata": {},
     "output_type": "execute_result"
    }
   ],
   "source": [
    "business_df[business_df.state=='XMS'].business_id.nunique()"
   ]
  },
  {
   "cell_type": "code",
   "execution_count": 6,
   "id": "145753f7",
   "metadata": {
    "id": "145753f7",
    "outputId": "e468817d-612e-473b-cae2-db4186470aee"
   },
   "outputs": [
    {
     "data": {
      "text/plain": [
       "5573"
      ]
     },
     "execution_count": 6,
     "metadata": {},
     "output_type": "execute_result"
    }
   ],
   "source": [
    "# Alberta, Canada\n",
    "business_df[business_df.state=='AB'].business_id.nunique()"
   ]
  },
  {
   "cell_type": "code",
   "execution_count": 7,
   "id": "6ea3c78b",
   "metadata": {
    "id": "6ea3c78b"
   },
   "outputs": [],
   "source": [
    "# d1 = {'ALABAMA' : 'AL', 'ALASKA' : 'AK', 'ARIZONA' : 'AZ', 'ARKANSAS' : 'AR', 'CALIFORNIA' : 'CA',\n",
    "#       'COLORADO' : 'CO', 'CONNECTICUT' : 'CT', 'DELAWARE' : 'DE', 'FLORIDA' : 'FL', 'GEORGIA' : 'GA',\n",
    "#       'HAWAII' : 'HI', 'IDAHO' : 'ID', 'ILLINOIS' : 'IL', 'INDIANA' : 'IN', 'IOWA' : 'IA', 'KANSAS' : 'KS',\n",
    "#       'KENTUCKY' : 'KY', 'LOUISIANA' : 'LA', 'MAINE' : 'ME', 'MARYLAND' : 'MD', 'MASSACHUSETTS' : 'MA',\n",
    "#       'MICHIGAN' : 'MI', 'MINNESOTA' : 'MN', 'MISSISSIPPI' : 'MS', 'MISSOURI' : 'MO', 'MONTANA' : 'MT',\n",
    "#       'NEBRASKA' : 'NE', 'NEVADA' : 'NV', 'NEW HAMPSHIRE' : 'NH', 'NEW JERSEY' : 'NJ', 'NEW MEXICO' : 'NM',\n",
    "#       'NEW YORK' : 'NY', 'NORTH CAROLINA' : 'NC', 'NORTH DAKOTA' : 'ND', 'OHIO' : 'OH', 'OKLAHOMA' : 'OK',\n",
    "#       'OREGON' : 'OR', 'PENNSYLVANIA' : 'PA', 'RHODE ISLAND' : 'RI', 'SOUTH CAROLINA' : 'SC',\n",
    "#       'SOUTH DAKOTA' : 'SD', 'TENNESSEE' : 'TN', 'TEXAS' : 'TX', 'UTAH' : 'UT', 'VERMONT' : 'VT',\n",
    "#       'VIRGINIA' : 'VA', 'WASHINGTON' : 'WA', 'WEST VIRGINIA' : 'WV', 'WISCONSIN' : 'WI', 'WYOMING' : 'WY',\n",
    "#       'PUERTO RICO' : 'PR', 'DISTRICT OF COLUMBIA' : 'DC'}"
   ]
  },
  {
   "cell_type": "code",
   "execution_count": 8,
   "id": "472d6bdd",
   "metadata": {
    "id": "472d6bdd",
    "outputId": "ef795179-e420-4581-9f44-c6d4bbb90dbe"
   },
   "outputs": [
    {
     "name": "stdout",
     "output_type": "stream",
     "text": [
      "Index(['business_id', 'date'], dtype='object')\n",
      "data shape: (131930, 2)\n",
      "unique business ids: 131930\n"
     ]
    },
    {
     "data": {
      "text/html": [
       "<div>\n",
       "<style scoped>\n",
       "    .dataframe tbody tr th:only-of-type {\n",
       "        vertical-align: middle;\n",
       "    }\n",
       "\n",
       "    .dataframe tbody tr th {\n",
       "        vertical-align: top;\n",
       "    }\n",
       "\n",
       "    .dataframe thead th {\n",
       "        text-align: right;\n",
       "    }\n",
       "</style>\n",
       "<table border=\"1\" class=\"dataframe\">\n",
       "  <thead>\n",
       "    <tr style=\"text-align: right;\">\n",
       "      <th></th>\n",
       "      <th>business_id</th>\n",
       "      <th>date</th>\n",
       "    </tr>\n",
       "  </thead>\n",
       "  <tbody>\n",
       "    <tr>\n",
       "      <th>0</th>\n",
       "      <td>---kPU91CF4Lq2-WlRu9Lw</td>\n",
       "      <td>2020-03-13 21:10:56, 2020-06-02 22:18:06, 2020...</td>\n",
       "    </tr>\n",
       "    <tr>\n",
       "      <th>1</th>\n",
       "      <td>--0iUa4sNDFiZFrAdIWhZQ</td>\n",
       "      <td>2010-09-13 21:43:09, 2011-05-04 23:08:15, 2011...</td>\n",
       "    </tr>\n",
       "  </tbody>\n",
       "</table>\n",
       "</div>"
      ],
      "text/plain": [
       "              business_id                                               date\n",
       "0  ---kPU91CF4Lq2-WlRu9Lw  2020-03-13 21:10:56, 2020-06-02 22:18:06, 2020...\n",
       "1  --0iUa4sNDFiZFrAdIWhZQ  2010-09-13 21:43:09, 2011-05-04 23:08:15, 2011..."
      ]
     },
     "execution_count": 8,
     "metadata": {},
     "output_type": "execute_result"
    }
   ],
   "source": [
    "# Check checkin dataframe - columns, shape, and unique business_id\n",
    "print(checkin_df.columns)\n",
    "print(f'data shape: {checkin_df.shape}')\n",
    "print(f'unique business ids: {checkin_df.business_id.nunique()}')\n",
    "checkin_df.head(2)"
   ]
  },
  {
   "cell_type": "code",
   "execution_count": 9,
   "id": "7358fead",
   "metadata": {
    "id": "7358fead",
    "outputId": "6e4c99b4-f5b0-4c15-a52e-fafd92a99133"
   },
   "outputs": [
    {
     "name": "stdout",
     "output_type": "stream",
     "text": [
      "Index(['review_id', 'user_id', 'business_id', 'stars', 'useful', 'funny',\n",
      "       'cool', 'text', 'date'],\n",
      "      dtype='object')\n",
      "data shape: (6990280, 9)\n",
      "unique business ids: 150346\n"
     ]
    },
    {
     "data": {
      "text/html": [
       "<div>\n",
       "<style scoped>\n",
       "    .dataframe tbody tr th:only-of-type {\n",
       "        vertical-align: middle;\n",
       "    }\n",
       "\n",
       "    .dataframe tbody tr th {\n",
       "        vertical-align: top;\n",
       "    }\n",
       "\n",
       "    .dataframe thead th {\n",
       "        text-align: right;\n",
       "    }\n",
       "</style>\n",
       "<table border=\"1\" class=\"dataframe\">\n",
       "  <thead>\n",
       "    <tr style=\"text-align: right;\">\n",
       "      <th></th>\n",
       "      <th>review_id</th>\n",
       "      <th>user_id</th>\n",
       "      <th>business_id</th>\n",
       "      <th>stars</th>\n",
       "      <th>useful</th>\n",
       "      <th>funny</th>\n",
       "      <th>cool</th>\n",
       "      <th>text</th>\n",
       "      <th>date</th>\n",
       "    </tr>\n",
       "  </thead>\n",
       "  <tbody>\n",
       "    <tr>\n",
       "      <th>0</th>\n",
       "      <td>KU_O5udG6zpxOg-VcAEodg</td>\n",
       "      <td>mh_-eMZ6K5RLWhZyISBhwA</td>\n",
       "      <td>XQfwVwDr-v0ZS3_CbbE5Xw</td>\n",
       "      <td>3.0</td>\n",
       "      <td>0</td>\n",
       "      <td>0</td>\n",
       "      <td>0</td>\n",
       "      <td>If you decide to eat here, just be aware it is...</td>\n",
       "      <td>2018-07-07 22:09:11</td>\n",
       "    </tr>\n",
       "    <tr>\n",
       "      <th>1</th>\n",
       "      <td>BiTunyQ73aT9WBnpR9DZGw</td>\n",
       "      <td>OyoGAe7OKpv6SyGZT5g77Q</td>\n",
       "      <td>7ATYjTIgM3jUlt4UM3IypQ</td>\n",
       "      <td>5.0</td>\n",
       "      <td>1</td>\n",
       "      <td>0</td>\n",
       "      <td>1</td>\n",
       "      <td>I've taken a lot of spin classes over the year...</td>\n",
       "      <td>2012-01-03 15:28:18</td>\n",
       "    </tr>\n",
       "  </tbody>\n",
       "</table>\n",
       "</div>"
      ],
      "text/plain": [
       "                review_id                 user_id             business_id  \\\n",
       "0  KU_O5udG6zpxOg-VcAEodg  mh_-eMZ6K5RLWhZyISBhwA  XQfwVwDr-v0ZS3_CbbE5Xw   \n",
       "1  BiTunyQ73aT9WBnpR9DZGw  OyoGAe7OKpv6SyGZT5g77Q  7ATYjTIgM3jUlt4UM3IypQ   \n",
       "\n",
       "   stars  useful  funny  cool  \\\n",
       "0    3.0       0      0     0   \n",
       "1    5.0       1      0     1   \n",
       "\n",
       "                                                text                 date  \n",
       "0  If you decide to eat here, just be aware it is...  2018-07-07 22:09:11  \n",
       "1  I've taken a lot of spin classes over the year...  2012-01-03 15:28:18  "
      ]
     },
     "execution_count": 9,
     "metadata": {},
     "output_type": "execute_result"
    }
   ],
   "source": [
    "# Check review dataframe - columns, shape, and unique business_id\n",
    "print(review_df.columns)\n",
    "print(f'data shape: {review_df.shape}')\n",
    "print(f'unique business ids: {review_df.business_id.nunique()}')\n",
    "review_df.head(2)"
   ]
  },
  {
   "cell_type": "code",
   "execution_count": 10,
   "id": "feeeffb1",
   "metadata": {
    "id": "feeeffb1",
    "outputId": "ec3dc378-ccf2-435e-856c-a38b68b11913"
   },
   "outputs": [
    {
     "name": "stdout",
     "output_type": "stream",
     "text": [
      "Index(['user_id', 'business_id', 'text', 'date', 'compliment_count'], dtype='object')\n",
      "data shape: (908915, 5)\n",
      "unique business ids: 106193\n"
     ]
    },
    {
     "data": {
      "text/html": [
       "<div>\n",
       "<style scoped>\n",
       "    .dataframe tbody tr th:only-of-type {\n",
       "        vertical-align: middle;\n",
       "    }\n",
       "\n",
       "    .dataframe tbody tr th {\n",
       "        vertical-align: top;\n",
       "    }\n",
       "\n",
       "    .dataframe thead th {\n",
       "        text-align: right;\n",
       "    }\n",
       "</style>\n",
       "<table border=\"1\" class=\"dataframe\">\n",
       "  <thead>\n",
       "    <tr style=\"text-align: right;\">\n",
       "      <th></th>\n",
       "      <th>user_id</th>\n",
       "      <th>business_id</th>\n",
       "      <th>text</th>\n",
       "      <th>date</th>\n",
       "      <th>compliment_count</th>\n",
       "    </tr>\n",
       "  </thead>\n",
       "  <tbody>\n",
       "    <tr>\n",
       "      <th>0</th>\n",
       "      <td>AGNUgVwnZUey3gcPCJ76iw</td>\n",
       "      <td>3uLgwr0qeCNMjKenHJwPGQ</td>\n",
       "      <td>Avengers time with the ladies.</td>\n",
       "      <td>2012-05-18 02:17:21</td>\n",
       "      <td>0</td>\n",
       "    </tr>\n",
       "    <tr>\n",
       "      <th>1</th>\n",
       "      <td>NBN4MgHP9D3cw--SnauTkA</td>\n",
       "      <td>QoezRbYQncpRqyrLH6Iqjg</td>\n",
       "      <td>They have lots of good deserts and tasty cuban...</td>\n",
       "      <td>2013-02-05 18:35:10</td>\n",
       "      <td>0</td>\n",
       "    </tr>\n",
       "  </tbody>\n",
       "</table>\n",
       "</div>"
      ],
      "text/plain": [
       "                  user_id             business_id  \\\n",
       "0  AGNUgVwnZUey3gcPCJ76iw  3uLgwr0qeCNMjKenHJwPGQ   \n",
       "1  NBN4MgHP9D3cw--SnauTkA  QoezRbYQncpRqyrLH6Iqjg   \n",
       "\n",
       "                                                text                 date  \\\n",
       "0                     Avengers time with the ladies.  2012-05-18 02:17:21   \n",
       "1  They have lots of good deserts and tasty cuban...  2013-02-05 18:35:10   \n",
       "\n",
       "   compliment_count  \n",
       "0                 0  \n",
       "1                 0  "
      ]
     },
     "execution_count": 10,
     "metadata": {},
     "output_type": "execute_result"
    }
   ],
   "source": [
    "# Check tip dataframe - columns, shape, and unique business_id\n",
    "print(tip_df.columns)\n",
    "print(f'data shape: {tip_df.shape}')\n",
    "print(f'unique business ids: {tip_df.business_id.nunique()}')\n",
    "tip_df.head(2)"
   ]
  },
  {
   "cell_type": "code",
   "execution_count": 11,
   "id": "180f55cb",
   "metadata": {
    "id": "180f55cb",
    "outputId": "02a1bea1-d922-4ba1-e175-6acf747d7e76"
   },
   "outputs": [
    {
     "name": "stdout",
     "output_type": "stream",
     "text": [
      "Index(['user_id', 'name', 'review_count', 'yelping_since', 'useful', 'funny',\n",
      "       'cool', 'elite', 'friends', 'fans', 'average_stars', 'compliment_hot',\n",
      "       'compliment_more', 'compliment_profile', 'compliment_cute',\n",
      "       'compliment_list', 'compliment_note', 'compliment_plain',\n",
      "       'compliment_cool', 'compliment_funny', 'compliment_writer',\n",
      "       'compliment_photos'],\n",
      "      dtype='object')\n",
      "data shape: (1987897, 22)\n",
      "unique business ids: 1987897\n"
     ]
    },
    {
     "data": {
      "text/html": [
       "<div>\n",
       "<style scoped>\n",
       "    .dataframe tbody tr th:only-of-type {\n",
       "        vertical-align: middle;\n",
       "    }\n",
       "\n",
       "    .dataframe tbody tr th {\n",
       "        vertical-align: top;\n",
       "    }\n",
       "\n",
       "    .dataframe thead th {\n",
       "        text-align: right;\n",
       "    }\n",
       "</style>\n",
       "<table border=\"1\" class=\"dataframe\">\n",
       "  <thead>\n",
       "    <tr style=\"text-align: right;\">\n",
       "      <th></th>\n",
       "      <th>user_id</th>\n",
       "      <th>name</th>\n",
       "      <th>review_count</th>\n",
       "      <th>yelping_since</th>\n",
       "      <th>useful</th>\n",
       "      <th>funny</th>\n",
       "      <th>cool</th>\n",
       "      <th>elite</th>\n",
       "      <th>friends</th>\n",
       "      <th>fans</th>\n",
       "      <th>...</th>\n",
       "      <th>compliment_more</th>\n",
       "      <th>compliment_profile</th>\n",
       "      <th>compliment_cute</th>\n",
       "      <th>compliment_list</th>\n",
       "      <th>compliment_note</th>\n",
       "      <th>compliment_plain</th>\n",
       "      <th>compliment_cool</th>\n",
       "      <th>compliment_funny</th>\n",
       "      <th>compliment_writer</th>\n",
       "      <th>compliment_photos</th>\n",
       "    </tr>\n",
       "  </thead>\n",
       "  <tbody>\n",
       "    <tr>\n",
       "      <th>0</th>\n",
       "      <td>qVc8ODYU5SZjKXVBgXdI7w</td>\n",
       "      <td>Walker</td>\n",
       "      <td>585</td>\n",
       "      <td>2007-01-25 16:47:26</td>\n",
       "      <td>7217</td>\n",
       "      <td>1259</td>\n",
       "      <td>5994</td>\n",
       "      <td>2007</td>\n",
       "      <td>NSCy54eWehBJyZdG2iE84w, pe42u7DcCH2QmI81NX-8qA...</td>\n",
       "      <td>267</td>\n",
       "      <td>...</td>\n",
       "      <td>65</td>\n",
       "      <td>55</td>\n",
       "      <td>56</td>\n",
       "      <td>18</td>\n",
       "      <td>232</td>\n",
       "      <td>844</td>\n",
       "      <td>467</td>\n",
       "      <td>467</td>\n",
       "      <td>239</td>\n",
       "      <td>180</td>\n",
       "    </tr>\n",
       "    <tr>\n",
       "      <th>1</th>\n",
       "      <td>j14WgRoU_-2ZE1aw1dXrJg</td>\n",
       "      <td>Daniel</td>\n",
       "      <td>4333</td>\n",
       "      <td>2009-01-25 04:35:42</td>\n",
       "      <td>43091</td>\n",
       "      <td>13066</td>\n",
       "      <td>27281</td>\n",
       "      <td>2009,2010,2011,2012,2013,2014,2015,2016,2017,2...</td>\n",
       "      <td>ueRPE0CX75ePGMqOFVj6IQ, 52oH4DrRvzzl8wh5UXyU0A...</td>\n",
       "      <td>3138</td>\n",
       "      <td>...</td>\n",
       "      <td>264</td>\n",
       "      <td>184</td>\n",
       "      <td>157</td>\n",
       "      <td>251</td>\n",
       "      <td>1847</td>\n",
       "      <td>7054</td>\n",
       "      <td>3131</td>\n",
       "      <td>3131</td>\n",
       "      <td>1521</td>\n",
       "      <td>1946</td>\n",
       "    </tr>\n",
       "  </tbody>\n",
       "</table>\n",
       "<p>2 rows × 22 columns</p>\n",
       "</div>"
      ],
      "text/plain": [
       "                  user_id    name  review_count        yelping_since  useful  \\\n",
       "0  qVc8ODYU5SZjKXVBgXdI7w  Walker           585  2007-01-25 16:47:26    7217   \n",
       "1  j14WgRoU_-2ZE1aw1dXrJg  Daniel          4333  2009-01-25 04:35:42   43091   \n",
       "\n",
       "   funny   cool                                              elite  \\\n",
       "0   1259   5994                                               2007   \n",
       "1  13066  27281  2009,2010,2011,2012,2013,2014,2015,2016,2017,2...   \n",
       "\n",
       "                                             friends  fans  ...  \\\n",
       "0  NSCy54eWehBJyZdG2iE84w, pe42u7DcCH2QmI81NX-8qA...   267  ...   \n",
       "1  ueRPE0CX75ePGMqOFVj6IQ, 52oH4DrRvzzl8wh5UXyU0A...  3138  ...   \n",
       "\n",
       "   compliment_more  compliment_profile  compliment_cute  compliment_list  \\\n",
       "0               65                  55               56               18   \n",
       "1              264                 184              157              251   \n",
       "\n",
       "   compliment_note  compliment_plain  compliment_cool  compliment_funny  \\\n",
       "0              232               844              467               467   \n",
       "1             1847              7054             3131              3131   \n",
       "\n",
       "   compliment_writer  compliment_photos  \n",
       "0                239                180  \n",
       "1               1521               1946  \n",
       "\n",
       "[2 rows x 22 columns]"
      ]
     },
     "execution_count": 11,
     "metadata": {},
     "output_type": "execute_result"
    }
   ],
   "source": [
    "# Check user dataframe - columns, shape, and unique user_id\n",
    "print(user_df.columns)\n",
    "print(f'data shape: {user_df.shape}')\n",
    "print(f'unique business ids: {user_df.user_id.nunique()}')\n",
    "user_df.head(2)"
   ]
  },
  {
   "cell_type": "markdown",
   "id": "470c50d7",
   "metadata": {
    "id": "470c50d7"
   },
   "source": [
    "<br>\n",
    "\n",
    "## 1.2. Subset Yelp Data"
   ]
  },
  {
   "cell_type": "code",
   "execution_count": 12,
   "id": "4476eac2",
   "metadata": {
    "id": "4476eac2",
    "outputId": "9c3d7a9e-a101-4766-e9fb-f93f342698d2"
   },
   "outputs": [
    {
     "data": {
      "text/plain": [
       "52286"
      ]
     },
     "execution_count": 12,
     "metadata": {},
     "output_type": "execute_result"
    }
   ],
   "source": [
    "# Check unique restaurant in the U.S.\n",
    "business_df[business_df.categories.str.contains('restaurant', case = False, na = False)].business_id.nunique()"
   ]
  },
  {
   "cell_type": "code",
   "execution_count": 13,
   "id": "d845a0f4",
   "metadata": {
    "id": "d845a0f4",
    "outputId": "58d9a794-83dc-4387-971b-aef90953a436"
   },
   "outputs": [
    {
     "data": {
      "text/plain": [
       "1161"
      ]
     },
     "execution_count": 13,
     "metadata": {},
     "output_type": "execute_result"
    }
   ],
   "source": [
    "# Check unique restaurant in CA\n",
    "business_df[business_df.categories.str.contains('restaurant', case = False, na = False)\n",
    "            & (business_df['state'] == 'CA')].business_id.nunique()"
   ]
  },
  {
   "cell_type": "code",
   "execution_count": 14,
   "id": "74c61fda",
   "metadata": {
    "id": "74c61fda"
   },
   "outputs": [],
   "source": [
    "# Unique business_id\n",
    "restaurant_id = business_df[business_df.categories.str.contains('restaurant', case = False, na = False)\n",
    "                           & ~(business_df['state'].isin(['AB','XMS']))].business_id.unique()\n",
    "\n",
    "ca_restaurant_id = business_df[business_df.categories.str.contains('restaurant', case = False, na = False)\n",
    "                           & (business_df['state'] == 'CA')].business_id.unique()"
   ]
  },
  {
   "cell_type": "code",
   "execution_count": 15,
   "id": "e449cd25",
   "metadata": {
    "id": "e449cd25",
    "outputId": "46bb8bf3-13d2-45f0-e32f-bc87218fa9a0"
   },
   "outputs": [
    {
     "data": {
      "text/plain": [
       "1161"
      ]
     },
     "execution_count": 15,
     "metadata": {},
     "output_type": "execute_result"
    }
   ],
   "source": [
    "# Unique business_id in subset of review\n",
    "review_df[review_df.business_id.isin(ca_restaurant_id)].business_id.nunique()"
   ]
  },
  {
   "cell_type": "code",
   "execution_count": 16,
   "id": "463875ba",
   "metadata": {
    "id": "463875ba",
    "outputId": "92f96c24-7597-4984-cb86-ae5ba3bae431"
   },
   "outputs": [
    {
     "data": {
      "text/plain": [
       "1077"
      ]
     },
     "execution_count": 16,
     "metadata": {},
     "output_type": "execute_result"
    }
   ],
   "source": [
    "# Unique business_id in subset of tip\n",
    "tip_df[tip_df.business_id.isin(ca_restaurant_id)].business_id.nunique()"
   ]
  },
  {
   "cell_type": "code",
   "execution_count": 17,
   "id": "aff807fc",
   "metadata": {
    "id": "aff807fc"
   },
   "outputs": [],
   "source": [
    "# Subset of business table\n",
    "restaurant_df = business_df[business_df.business_id.isin(restaurant_id)].copy()\n",
    "ca_restaurant_df = business_df[business_df.business_id.isin(ca_restaurant_id)].copy()"
   ]
  },
  {
   "cell_type": "code",
   "execution_count": 18,
   "id": "bef93b52",
   "metadata": {
    "id": "bef93b52"
   },
   "outputs": [],
   "source": [
    "# Subset of review table\n",
    "restaurant_review_df = review_df[review_df.business_id.isin(restaurant_id)].copy()\n",
    "ca_restaurant_review_df = review_df[review_df.business_id.isin(ca_restaurant_id)].copy()"
   ]
  },
  {
   "cell_type": "code",
   "execution_count": 19,
   "id": "1a12ab51",
   "metadata": {
    "id": "1a12ab51"
   },
   "outputs": [],
   "source": [
    "# Subset of tip table\n",
    "restaurant_tip_df = tip_df[tip_df.business_id.isin(restaurant_id)].copy()\n",
    "ca_restaurant_tip_df = tip_df[tip_df.business_id.isin(ca_restaurant_id)].copy()"
   ]
  },
  {
   "cell_type": "code",
   "execution_count": 20,
   "id": "9fa5f5bf",
   "metadata": {
    "id": "9fa5f5bf"
   },
   "outputs": [],
   "source": [
    "# Subset of user table\n",
    "restaurant_review_user_id = restaurant_review_df.user_id.unique()\n",
    "ca_restaurant_review_user_id = ca_restaurant_review_df.user_id.unique()\n",
    "\n",
    "restaurant_user_df = user_df[user_df.user_id.isin(restaurant_review_user_id)].copy()\n",
    "ca_restaurant_user_df = user_df[user_df.user_id.isin(ca_restaurant_review_user_id)].copy()"
   ]
  },
  {
   "cell_type": "markdown",
   "id": "81ac3b8d",
   "metadata": {
    "id": "81ac3b8d"
   },
   "source": [
    "<br>\n",
    "\n",
    "## 1.3. Check Attributes"
   ]
  },
  {
   "cell_type": "code",
   "execution_count": 21,
   "id": "0d0cc0c3",
   "metadata": {
    "id": "0d0cc0c3",
    "outputId": "7e83d92c-a1d5-40f2-ee9d-1585b217f103"
   },
   "outputs": [
    {
     "data": {
      "text/plain": [
       "{'RestaurantsDelivery': 'False',\n",
       " 'OutdoorSeating': 'False',\n",
       " 'BusinessAcceptsCreditCards': 'False',\n",
       " 'BusinessParking': \"{'garage': False, 'street': True, 'validated': False, 'lot': False, 'valet': False}\",\n",
       " 'BikeParking': 'True',\n",
       " 'RestaurantsPriceRange2': '1',\n",
       " 'RestaurantsTakeOut': 'True',\n",
       " 'ByAppointmentOnly': 'False',\n",
       " 'WiFi': \"u'free'\",\n",
       " 'Alcohol': \"u'none'\",\n",
       " 'Caters': 'True'}"
      ]
     },
     "execution_count": 21,
     "metadata": {},
     "output_type": "execute_result"
    }
   ],
   "source": [
    "restaurant_df.loc[3,'attributes']"
   ]
  },
  {
   "cell_type": "code",
   "execution_count": 22,
   "id": "72ed825d",
   "metadata": {
    "id": "72ed825d",
    "outputId": "2a82fa51-85bc-4bfd-fe55-7aa6bba46ffe"
   },
   "outputs": [
    {
     "data": {
      "text/plain": [
       "{'RestaurantsTakeOut': 'True',\n",
       " 'NoiseLevel': \"u'average'\",\n",
       " 'Caters': 'True',\n",
       " 'Ambience': \"{'touristy': False, 'hipster': True, 'romantic': False, 'divey': False, 'intimate': False, 'trendy': True, 'upscale': False, 'classy': False, 'casual': True}\",\n",
       " 'RestaurantsReservations': 'False',\n",
       " 'BusinessAcceptsCreditCards': 'True',\n",
       " 'RestaurantsTableService': 'False',\n",
       " 'GoodForKids': 'True',\n",
       " 'RestaurantsPriceRange2': '2',\n",
       " 'WheelchairAccessible': 'True',\n",
       " 'OutdoorSeating': 'True',\n",
       " 'RestaurantsDelivery': 'None',\n",
       " 'HasTV': 'False',\n",
       " 'RestaurantsAttire': \"'casual'\",\n",
       " 'Alcohol': \"u'none'\",\n",
       " 'GoodForMeal': \"{'dessert': False, 'latenight': False, 'lunch': True, 'dinner': False, 'brunch': True, 'breakfast': True}\",\n",
       " 'DogsAllowed': 'True',\n",
       " 'RestaurantsGoodForGroups': 'True',\n",
       " 'HappyHour': 'False',\n",
       " 'BusinessParking': \"{'garage': False, 'street': True, 'validated': False, 'lot': False, 'valet': False}\",\n",
       " 'BikeParking': 'True',\n",
       " 'WiFi': \"u'no'\"}"
      ]
     },
     "execution_count": 22,
     "metadata": {},
     "output_type": "execute_result"
    }
   ],
   "source": [
    "restaurant_df.loc[85,'attributes']"
   ]
  },
  {
   "cell_type": "code",
   "execution_count": 23,
   "id": "b460e5c1",
   "metadata": {
    "id": "b460e5c1",
    "outputId": "f407fd29-7fde-4856-b1a0-5012c57b2e25"
   },
   "outputs": [
    {
     "data": {
      "text/plain": [
       "'Food, Restaurants, Salad, Coffee & Tea, Breakfast & Brunch, Sandwiches, Bakeries'"
      ]
     },
     "execution_count": 23,
     "metadata": {},
     "output_type": "execute_result"
    }
   ],
   "source": [
    "restaurant_df.loc[85,'categories']"
   ]
  },
  {
   "cell_type": "code",
   "execution_count": 24,
   "id": "cc19390f",
   "metadata": {
    "id": "cc19390f",
    "outputId": "c60e9b67-2b04-45bc-efd0-d0f8ee0c2238"
   },
   "outputs": [
    {
     "data": {
      "text/plain": [
       "\"If you decide to eat here, just be aware it is going to take about 2 hours from beginning to end. We have tried it multiple times, because I want to like it! I have been to it's other locations in NJ and never had a bad experience. \\n\\nThe food is good, but it takes a very long time to come out. The waitstaff is very young, but usually pleasant. We have just had too many experiences where we spent way too long waiting. We usually opt for another diner or restaurant on the weekends, in order to be done quicker.\""
      ]
     },
     "execution_count": 24,
     "metadata": {},
     "output_type": "execute_result"
    }
   ],
   "source": [
    "review_df.loc[0,'text']"
   ]
  },
  {
   "cell_type": "code",
   "execution_count": 25,
   "id": "8afe04eb",
   "metadata": {
    "id": "8afe04eb",
    "outputId": "4cfe04ef-0455-4305-8132-e89f6d8b2257"
   },
   "outputs": [
    {
     "data": {
      "text/plain": [
       "'They have lots of good deserts and tasty cuban sandwiches'"
      ]
     },
     "execution_count": 25,
     "metadata": {},
     "output_type": "execute_result"
    }
   ],
   "source": [
    "tip_df.loc[1,'text']"
   ]
  },
  {
   "cell_type": "code",
   "execution_count": 26,
   "id": "6deee1cc",
   "metadata": {
    "id": "6deee1cc",
    "outputId": "c5d2550e-b839-41e7-a598-e726a9d25aa6"
   },
   "outputs": [
    {
     "data": {
      "text/plain": [
       "0"
      ]
     },
     "execution_count": 26,
     "metadata": {},
     "output_type": "execute_result"
    }
   ],
   "source": [
    "tip_df.loc[1,'compliment_count']"
   ]
  },
  {
   "cell_type": "code",
   "execution_count": 27,
   "id": "8c60b815",
   "metadata": {
    "id": "8c60b815",
    "outputId": "c5263f90-f76c-4ebf-94d2-3b95662f76a1"
   },
   "outputs": [
    {
     "data": {
      "text/plain": [
       "Index(['review_id', 'user_id', 'business_id', 'stars', 'useful', 'funny',\n",
       "       'cool', 'text', 'date'],\n",
       "      dtype='object')"
      ]
     },
     "execution_count": 27,
     "metadata": {},
     "output_type": "execute_result"
    }
   ],
   "source": [
    "review_df.columns"
   ]
  },
  {
   "cell_type": "code",
   "execution_count": 28,
   "id": "bed9c06f",
   "metadata": {
    "id": "bed9c06f",
    "outputId": "ff84e65e-af87-431f-c4cf-565eec76cb60"
   },
   "outputs": [
    {
     "data": {
      "text/plain": [
       "count    908915.000000\n",
       "mean          0.012525\n",
       "std           0.120763\n",
       "min           0.000000\n",
       "25%           0.000000\n",
       "50%           0.000000\n",
       "75%           0.000000\n",
       "max           6.000000\n",
       "Name: compliment_count, dtype: float64"
      ]
     },
     "execution_count": 28,
     "metadata": {},
     "output_type": "execute_result"
    }
   ],
   "source": [
    "tip_df.compliment_count.describe()"
   ]
  },
  {
   "cell_type": "code",
   "execution_count": 29,
   "id": "a604715a",
   "metadata": {
    "id": "a604715a",
    "outputId": "ead06956-bd72-431e-c388-690fdcc78323"
   },
   "outputs": [
    {
     "data": {
      "text/plain": [
       "'2010-09-13 21:43:09, 2011-05-04 23:08:15, 2011-07-18 22:30:31, 2012-09-07 20:28:50, 2013-03-27 15:57:36, 2013-08-13 00:31:34, 2013-08-13 00:31:48, 2013-09-23 17:39:38, 2013-11-18 06:34:08, 2014-04-12 23:04:47'"
      ]
     },
     "execution_count": 29,
     "metadata": {},
     "output_type": "execute_result"
    }
   ],
   "source": [
    "checkin_df.iloc[1,1]"
   ]
  },
  {
   "cell_type": "markdown",
   "id": "e12e9d07",
   "metadata": {
    "id": "e12e9d07"
   },
   "source": [
    "<br>\n",
    "\n",
    "## 1.4. Flatten Columns"
   ]
  },
  {
   "cell_type": "code",
   "execution_count": 30,
   "id": "0bc67fe1",
   "metadata": {
    "id": "0bc67fe1"
   },
   "outputs": [],
   "source": [
    "# Flatten the 'attributes' column\n",
    "flattened_attributes = pd.json_normalize(restaurant_df['attributes'].apply(lambda x: {} if pd.isna(x) else x))\n",
    "\n",
    "# Concatenate the flattened attributes with the original DataFrame\n",
    "restaurant_df = pd.concat([restaurant_df.reset_index(drop=True),\n",
    "                           flattened_attributes.reset_index(drop=True)], axis=1)\n",
    "\n",
    "# Drop the original 'attributes' column\n",
    "restaurant_df.drop(columns=['attributes'], inplace=True)\n"
   ]
  },
  {
   "cell_type": "code",
   "execution_count": 31,
   "id": "80de86af",
   "metadata": {
    "id": "80de86af"
   },
   "outputs": [],
   "source": [
    "# Flatten the 'BusinessParking' column\n",
    "flattened_attributes = pd.json_normalize(restaurant_df['BusinessParking'].apply(lambda x: {} if pd.isna(x) else x))\n",
    "\n",
    "# Concatenate the flattened attributes with the original DataFrame\n",
    "restaurant_df = pd.concat([restaurant_df.reset_index(drop=True),\n",
    "                           flattened_attributes.reset_index(drop=True)], axis=1)\n",
    "\n",
    "# Drop the original 'BusinessParking' column\n",
    "restaurant_df.drop(columns=['BusinessParking'], inplace=True)"
   ]
  },
  {
   "cell_type": "code",
   "execution_count": 32,
   "id": "09b15ef8",
   "metadata": {
    "id": "09b15ef8"
   },
   "outputs": [],
   "source": [
    "# Flatten the 'Ambience' column\n",
    "flattened_attributes = pd.json_normalize(restaurant_df['Ambience'].apply(lambda x: {} if pd.isna(x) else x))\n",
    "\n",
    "# Concatenate the flattened attributes with the original DataFrame\n",
    "restaurant_df = pd.concat([restaurant_df.reset_index(drop=True),\n",
    "                           flattened_attributes.reset_index(drop=True)], axis=1)\n",
    "\n",
    "# Drop the original 'Ambience' column\n",
    "restaurant_df.drop(columns=['Ambience'], inplace=True)"
   ]
  },
  {
   "cell_type": "code",
   "execution_count": 33,
   "id": "ac8e98c4",
   "metadata": {
    "id": "ac8e98c4"
   },
   "outputs": [],
   "source": [
    "# Flatten the 'GoodForMeal' column\n",
    "flattened_attributes = pd.json_normalize(restaurant_df['GoodForMeal'].apply(lambda x: {} if pd.isna(x) else x))\n",
    "\n",
    "# Concatenate the flattened attributes with the original DataFrame\n",
    "restaurant_df = pd.concat([restaurant_df.reset_index(drop=True),\n",
    "                           flattened_attributes.reset_index(drop=True)], axis=1)\n",
    "\n",
    "# Drop the original 'GoodForMeal' column\n",
    "restaurant_df.drop(columns=['GoodForMeal'], inplace=True)"
   ]
  },
  {
   "cell_type": "code",
   "execution_count": 34,
   "id": "8cb209d2",
   "metadata": {
    "id": "8cb209d2"
   },
   "outputs": [],
   "source": [
    "# Flatten the 'Music' column\n",
    "flattened_attributes = pd.json_normalize(restaurant_df['Music'].apply(lambda x: {} if pd.isna(x) else x))\n",
    "\n",
    "# Concatenate the flattened attributes with the original DataFrame\n",
    "restaurant_df = pd.concat([restaurant_df.reset_index(drop=True),\n",
    "                           flattened_attributes.reset_index(drop=True)], axis=1)\n",
    "\n",
    "# Drop the original 'Music' column\n",
    "restaurant_df.drop(columns=['Music'], inplace=True)"
   ]
  },
  {
   "cell_type": "code",
   "execution_count": 35,
   "id": "461aec7a",
   "metadata": {
    "id": "461aec7a"
   },
   "outputs": [],
   "source": [
    "# Flatten the 'BestNights' column\n",
    "flattened_attributes = pd.json_normalize(restaurant_df['BestNights'].apply(lambda x: {} if pd.isna(x) else x))\n",
    "\n",
    "# Concatenate the flattened attributes with the original DataFrame\n",
    "restaurant_df = pd.concat([restaurant_df.reset_index(drop=True),\n",
    "                           flattened_attributes.reset_index(drop=True)], axis=1)\n",
    "\n",
    "# Drop the original 'BestNights' column\n",
    "restaurant_df.drop(columns=['BestNights'], inplace=True)"
   ]
  },
  {
   "cell_type": "code",
   "execution_count": 36,
   "id": "bcecdb1c",
   "metadata": {
    "id": "bcecdb1c"
   },
   "outputs": [],
   "source": [
    "# Flatten the 'DietaryRestrictions' column\n",
    "flattened_attributes = pd.json_normalize(restaurant_df['DietaryRestrictions'].apply(lambda x: {} if pd.isna(x) else x))\n",
    "\n",
    "# Concatenate the flattened attributes with the original DataFrame\n",
    "restaurant_df = pd.concat([restaurant_df.reset_index(drop=True),\n",
    "                           flattened_attributes.reset_index(drop=True)], axis=1)\n",
    "\n",
    "# Drop the original 'DietaryRestrictions' column\n",
    "restaurant_df.drop(columns=['DietaryRestrictions'], inplace=True)"
   ]
  },
  {
   "cell_type": "code",
   "execution_count": 37,
   "id": "dde19765",
   "metadata": {
    "id": "dde19765"
   },
   "outputs": [],
   "source": [
    "# Flatten the 'HairSpecializesIn' column\n",
    "flattened_attributes = pd.json_normalize(restaurant_df['HairSpecializesIn'].apply(lambda x: {} if pd.isna(x) else x))\n",
    "\n",
    "# Concatenate the flattened attributes with the original DataFrame\n",
    "restaurant_df = pd.concat([restaurant_df.reset_index(drop=True),\n",
    "                           flattened_attributes.reset_index(drop=True)], axis=1)\n",
    "\n",
    "# Drop the original 'HairSpecializesIn' column\n",
    "restaurant_df.drop(columns=['HairSpecializesIn'], inplace=True)"
   ]
  },
  {
   "cell_type": "code",
   "execution_count": 38,
   "id": "da661bdc",
   "metadata": {
    "id": "da661bdc"
   },
   "outputs": [],
   "source": [
    "# Flatten the 'hours' column\n",
    "flattened_attributes = pd.json_normalize(restaurant_df['hours'].apply(lambda x: {} if pd.isna(x) else x))\n",
    "\n",
    "# Concatenate the flattened attributes with the original DataFrame\n",
    "restaurant_df = pd.concat([restaurant_df.reset_index(drop=True),\n",
    "                           flattened_attributes.reset_index(drop=True)], axis=1)\n",
    "\n",
    "# Drop the original 'hours' column\n",
    "restaurant_df.drop(columns=['hours'], inplace=True)"
   ]
  },
  {
   "cell_type": "code",
   "execution_count": 39,
   "id": "bd15c721",
   "metadata": {
    "id": "bd15c721"
   },
   "outputs": [],
   "source": [
    "ca_restaurant_df = restaurant_df[restaurant_df.business_id.isin(ca_restaurant_id)].copy()"
   ]
  },
  {
   "cell_type": "markdown",
   "id": "41bce488",
   "metadata": {
    "id": "41bce488"
   },
   "source": [
    "<br>\n",
    "\n",
    "## 1.5. Store Data for Subsequent Use"
   ]
  },
  {
   "cell_type": "code",
   "execution_count": 40,
   "id": "a1b06739",
   "metadata": {
    "id": "a1b06739"
   },
   "outputs": [],
   "source": [
    "restaurant_df.to_csv('data/restaurant.csv',index=False)\n",
    "ca_restaurant_df.to_csv('data/ca_restaurant.csv',index=False)\n",
    "\n",
    "restaurant_review_df.to_csv('data/review.csv',index=False)\n",
    "ca_restaurant_review_df.to_csv('data/ca_review.csv',index=False)\n",
    "\n",
    "restaurant_tip_df.to_csv('data/tip.csv',index=False)\n",
    "ca_restaurant_tip_df.to_csv('data/ca_tip.csv',index=False)\n",
    "\n",
    "restaurant_user_df.to_csv('data/user.csv',index=False)\n",
    "ca_restaurant_user_df.to_csv('data/ca_user.csv',index=False)"
   ]
  },
  {
   "cell_type": "markdown",
   "id": "bd13e511",
   "metadata": {
    "id": "bd13e511"
   },
   "source": [
    "<br>\n",
    "\n",
    "## 1.6. Demographic Data from US Census API"
   ]
  },
  {
   "cell_type": "code",
   "execution_count": 41,
   "id": "5315a376",
   "metadata": {
    "id": "5315a376",
    "outputId": "453c629e-aeeb-4777-c59d-d2566802106b"
   },
   "outputs": [
    {
     "name": "stdout",
     "output_type": "stream",
     "text": [
      "entries missing zip code: 0\n",
      "entries missing ca zip code: 0\n",
      "number of unique zip codes: 898\n",
      "number of unique CA zip codes: 16\n"
     ]
    }
   ],
   "source": [
    "# Extract zip code from merged dataframe\n",
    "print(f'entries missing zip code: {restaurant_df.postal_code.isna().sum()}')\n",
    "print(f'entries missing ca zip code: {ca_restaurant_df.postal_code.isna().sum()}')\n",
    "\n",
    "zip_codes = restaurant_df['postal_code'].unique()\n",
    "ca_zip_codes = ca_restaurant_df['postal_code'].unique()\n",
    "\n",
    "print(f'number of unique zip codes: {len(zip_codes)}')\n",
    "print(f'number of unique CA zip codes: {len(ca_zip_codes)}')"
   ]
  },
  {
   "cell_type": "code",
   "execution_count": 42,
   "id": "aefd000c",
   "metadata": {
    "id": "aefd000c",
    "outputId": "5870c78d-7ba7-4383-db6a-8183cb34b816"
   },
   "outputs": [
    {
     "name": "stdout",
     "output_type": "stream",
     "text": [
      "{'median_household_income': '168250', 'population': '22996', 'household_cnt': '8952', 'education_total': '17152', 'bachelors_degree': '3581', 'median_age': '32.9', 'population_hispanic_latino': '6891', 'population_white': '5269', 'population_asian': '10692', 'zip_code': '94085'}\n"
     ]
    }
   ],
   "source": [
    "# Connecting to US Census's API to get demographic data for each zip code\n",
    "# https://www.census.gov/data/developers/data-sets/acs-5year.html\n",
    "\n",
    "def get_census_data(zip_code, api_key):\n",
    "    base_url = \"https://api.census.gov/data\"\n",
    "    year = \"2022\"\n",
    "    dataset = \"acs/acs5\"\n",
    "\n",
    "    variables = {\n",
    "        \"B19013_001E\": \"median_household_income\",\n",
    "        \"B01003_001E\": \"population\",\n",
    "        \"B11016_001E\": \"household_cnt\",\n",
    "        \"B15003_001E\": \"education_total\",\n",
    "        \"B15003_022E\": \"bachelors_degree\",\n",
    "        \"B01002_001E\": \"median_age\",\n",
    "        \"B03001_003E\": \"population_hispanic_latino\",\n",
    "        \"B02001_002E\": \"population_white\", \n",
    "        \"B02001_005E\": \"population_asian\",\n",
    "    }\n",
    "\n",
    "    # optional attributes: density; hh_income_greaterThan100k_pcnt;\n",
    "\n",
    "    params = {\n",
    "        \"get\": \",\".join(variables.keys()),\n",
    "        \"for\": f\"zip code tabulation area:{zip_code}\",\n",
    "        \"key\": api_key\n",
    "    }\n",
    "\n",
    "    response = requests.get(f\"{base_url}/{year}/{dataset}\", params=params)\n",
    "    if response.status_code == 200:\n",
    "        data = response.json()[1]\n",
    "        result = {variables[key]: value for key, value in zip(variables.keys(), data)}\n",
    "        result[\"zip_code\"] = zip_code\n",
    "        return result\n",
    "    else:\n",
    "        return f\"Error: {response.status_code}\"\n",
    "\n",
    "api_key = \"bbde78e5f070664a3d06156001d4c374fc6c7737\"\n",
    "zip_code = \"94085\"\n",
    "census_data = get_census_data(zip_code, api_key)\n",
    "print(census_data)"
   ]
  },
  {
   "cell_type": "markdown",
   "id": "e89c5c50",
   "metadata": {
    "id": "e89c5c50"
   },
   "source": [
    "### Document of demographic variables\n",
    "\n",
    "### * median_household_income:\n",
    "This is the median income of households within the ZIP code area. The value '168250' indicates that the median household income is $168,250 per year. The median is the middle value when all household incomes are arranged in order, so half of the households earn more than this amount and half earn less.\n",
    "\n",
    "### * population:\n",
    "This indicates the total number of people living in the ZIP code area. The value '22996' means that there are 22,996 individuals residing in this area.\n",
    "\n",
    "### * household_cnt:\n",
    "This number represents the count of households in the ZIP code area, not the size of each household. The value '8952' means there are 8,952 households. To find the average household size, you would typically divide the population by the number of households.\n",
    "\n",
    "### * education_total:\n",
    "This is the total number of people in the ZIP code area who are above a certain age (usually 25) and have some level of educational attainment. The value '17152' is the count of such individuals. This variable is often used as a denominator to calculate education-related percentages.\n",
    "\n",
    "### * bachelors_degree:\n",
    "This number indicates the count of individuals who have attained a bachelor's degree. The value '3581' means that 3,581 people in this area have a bachelor's degree. You can use this number along with the education_total to find the percentage of the population with a bachelor's degree.\n",
    "\n",
    "### * median_age:\n",
    "This is the median age of all residents in the ZIP code area. The value '32.9' means that half of the population is younger than 32.9 years and half is older. This is a measure of the age distribution of the population.\n",
    "\n",
    "\n",
    "### * population_hispanic_latino:\n",
    "This indicates the total number of Hispanic or Latino people living in the ZIP code area. \n",
    "\n",
    "\n",
    "### * population_white:\n",
    "This indicates the total number of Caucasian people living in the ZIP code area. \n",
    "\n",
    "\n",
    "### * population_asian:\n",
    "This indicates the total number of Asian people living in the ZIP code area. "
   ]
  },
  {
   "cell_type": "markdown",
   "id": "b5d40759",
   "metadata": {},
   "source": [
    "#### <font color=red> below cell takes a while to run (~1 hour)</font>"
   ]
  },
  {
   "cell_type": "code",
   "execution_count": 43,
   "id": "20f54438",
   "metadata": {
    "id": "20f54438",
    "outputId": "6a6988a8-4004-4d0f-87ff-7a857a222937"
   },
   "outputs": [
    {
     "name": "stdout",
     "output_type": "stream",
     "text": [
      "Failed to retrieve data for ZIP code 08018: Error: 204\n",
      "Failed to retrieve data for ZIP code 37243: Error: 204\n",
      "Failed to retrieve data for ZIP code 89555: Error: 204\n",
      "Failed to retrieve data for ZIP code : Error: 400\n",
      "Failed to retrieve data for ZIP code 19176: Error: 204\n",
      "Failed to retrieve data for ZIP code 93118: Error: 204\n",
      "Failed to retrieve data for ZIP code 19357: Error: 204\n",
      "Failed to retrieve data for ZIP code 89595: Error: 204\n",
      "Failed to retrieve data for ZIP code 19443: Error: 204\n",
      "Failed to retrieve data for ZIP code 18931: Error: 204\n",
      "Failed to retrieve data for ZIP code 70063: Error: 204\n",
      "Failed to retrieve data for ZIP code 70016: Error: 204\n",
      "Failed to retrieve data for ZIP code 19409: Error: 204\n",
      "Failed to retrieve data for ZIP code 19395: Error: 204\n",
      "Failed to retrieve data for ZIP code 83701: Error: 204\n",
      "Failed to retrieve data for ZIP code 33588: Error: 204\n",
      "Failed to retrieve data for ZIP code 70170: Error: 204\n",
      "Failed to retrieve data for ZIP code 90261: Error: 204\n",
      "Failed to retrieve data for ZIP code 19725: Error: 204\n",
      "Failed to retrieve data for ZIP code 83717: Error: 204\n",
      "Failed to retrieve data for ZIP code 19195: Error: 204\n",
      "Failed to retrieve data for ZIP code 63145: Error: 204\n",
      "Failed to retrieve data for ZIP code 34697: Error: 204\n",
      "Failed to retrieve data for ZIP code 37011: Error: 204\n",
      "Failed to retrieve data for ZIP code 70140: Error: 204\n",
      "Failed to retrieve data for ZIP code 33689: Error: 204\n",
      "Failed to retrieve data for ZIP code 08601: Error: 204\n",
      "Failed to retrieve data for ZIP code 34660: Error: 204\n",
      "Failed to retrieve data for ZIP code 46255: Error: 204\n",
      "Failed to retrieve data for ZIP code 19487: Error: 204\n",
      "Failed to retrieve data for ZIP code 33601: Error: 204\n",
      "Failed to retrieve data for ZIP code 18928: Error: 204\n",
      "Failed to retrieve data for ZIP code 19155: Error: 204\n",
      "Failed to retrieve data for ZIP code 08100: Error: 204\n",
      "Failed to retrieve data for ZIP code 18949: Error: 204\n",
      "Failed to retrieve data for ZIP code 63190: Error: 204\n",
      "Failed to retrieve data for ZIP code 93190: Error: 204\n",
      "Failed to retrieve data for ZIP code 33769: Error: 204\n",
      "Failed to retrieve data for ZIP code 33733: Error: 204\n",
      "Failed to retrieve data for ZIP code 70195: Error: 204\n",
      "Failed to retrieve data for ZIP code 46282: Error: 204\n",
      "Failed to retrieve data for ZIP code 37246: Error: 204\n",
      "Failed to retrieve data for ZIP code 89432: Error: 204\n",
      "Failed to retrieve data for ZIP code 33622: Error: 204\n",
      "Failed to retrieve data for ZIP code 46230: Error: 204\n",
      "Failed to retrieve data for ZIP code 18924: Error: 204\n",
      "Failed to retrieve data for ZIP code 19353: Error: 204\n",
      "Failed to retrieve data for ZIP code 34619: Error: 204\n",
      "Failed to retrieve data for ZIP code 19486: Error: 204\n",
      "Failed to retrieve data for ZIP code 89504: Error: 204\n",
      "Failed to retrieve data for ZIP code 63022: Error: 204\n",
      "Failed to retrieve data for ZIP code 19470: Error: 204\n",
      "Failed to retrieve data for ZIP code 37068: Error: 204\n",
      "Failed to retrieve data for ZIP code 18971: Error: 204\n",
      "Failed to retrieve data for ZIP code 46262: Error: 204\n",
      "Failed to retrieve data for ZIP code 70157: Error: 204\n",
      "Failed to retrieve data for ZIP code 34656: Error: 204\n",
      "Failed to retrieve data for ZIP code 63182: Error: 204\n",
      "Failed to retrieve data for ZIP code 19331: Error: 204\n",
      "Failed to retrieve data for ZIP code 18963: Error: 204\n",
      "Failed to retrieve data for ZIP code 19603: Error: 204\n",
      "Failed to retrieve data for ZIP code 46269: Error: 204\n",
      "Failed to retrieve data for ZIP code 18979: Error: 204\n",
      "Failed to retrieve data for ZIP code 62202: Error: 204\n",
      "Failed to retrieve data for ZIP code 62222: Error: 204\n",
      "Failed to retrieve data for ZIP code 33568: Error: 204\n",
      "Failed to retrieve data for ZIP code 19423: Error: 204\n",
      "Failed to retrieve data for ZIP code 34682: Error: 204\n",
      "Failed to retrieve data for ZIP code 37065: Error: 204\n",
      "Failed to retrieve data for ZIP code 37229: Error: 204\n",
      "Failed to retrieve data for ZIP code 19019: Error: 204\n",
      "Failed to retrieve data for ZIP code 33623: Error: 204\n",
      "Failed to retrieve data for ZIP code 93031: Error: 204\n",
      "Failed to retrieve data for ZIP code 85702: Error: 204\n",
      "Failed to retrieve data for ZIP code 10426: Error: 204\n",
      "Failed to retrieve data for ZIP code 19432: Error: 204\n",
      "Failed to retrieve data for ZIP code 93102: Error: 204\n",
      "Failed to retrieve data for ZIP code 19407: Error: 204\n",
      "Failed to retrieve data for ZIP code 18084: Error: 204\n",
      "Failed to retrieve data for ZIP code 19450: Error: 204\n",
      "Failed to retrieve data for ZIP code 19548: Error: 204\n",
      "Failed to retrieve data for ZIP code 336140: Error: 204\n",
      "Failed to retrieve data for ZIP code 19065: Error: 204\n",
      "Failed to retrieve data for ZIP code 19101: Error: 204\n",
      "Failed to retrieve data for ZIP code 93642: Error: 204\n",
      "Failed to retrieve data for ZIP code 83707: Error: 204\n",
      "Failed to retrieve data for ZIP code 19080: Error: 204\n",
      "Failed to retrieve data for ZIP code 18984: Error: 204\n",
      "Failed to retrieve data for ZIP code 18911: Error: 204\n",
      "Failed to retrieve data for ZIP code 37024: Error: 204\n",
      "Failed to retrieve data for ZIP code 63302: Error: 204\n",
      "Failed to retrieve data for ZIP code 19092: Error: 204\n",
      "Failed to retrieve data for ZIP code 63310: Error: 204\n",
      "Failed to retrieve data for ZIP code 19421: Error: 204\n",
      "Failed to retrieve data for ZIP code 46296: Error: 204\n",
      "(803, 10)\n"
     ]
    }
   ],
   "source": [
    "# Retreiving API data\n",
    "# It takes quite some time\n",
    "\n",
    "api_key = \"bbde78e5f070664a3d06156001d4c374fc6c7737\"\n",
    "\n",
    "data_list = []\n",
    "for zip_code in zip_codes:\n",
    "    data = get_census_data(zip_code, api_key)\n",
    "    if isinstance(data, dict):\n",
    "        data_list.append(data)\n",
    "    else:\n",
    "        print(f\"Failed to retrieve data for ZIP code {zip_code}: {data}\")\n",
    "\n",
    "demographic_df = pd.DataFrame(data_list)\n",
    "\n",
    "print(demographic_df.shape)"
   ]
  },
  {
   "cell_type": "code",
   "execution_count": 44,
   "id": "dca3f398",
   "metadata": {
    "id": "dca3f398",
    "outputId": "bdb891f7-188a-4910-f336-c28a16bf7de2"
   },
   "outputs": [
    {
     "data": {
      "text/html": [
       "<div>\n",
       "<style scoped>\n",
       "    .dataframe tbody tr th:only-of-type {\n",
       "        vertical-align: middle;\n",
       "    }\n",
       "\n",
       "    .dataframe tbody tr th {\n",
       "        vertical-align: top;\n",
       "    }\n",
       "\n",
       "    .dataframe thead th {\n",
       "        text-align: right;\n",
       "    }\n",
       "</style>\n",
       "<table border=\"1\" class=\"dataframe\">\n",
       "  <thead>\n",
       "    <tr style=\"text-align: right;\">\n",
       "      <th></th>\n",
       "      <th>median_household_income</th>\n",
       "      <th>population</th>\n",
       "      <th>household_cnt</th>\n",
       "      <th>education_total</th>\n",
       "      <th>bachelors_degree</th>\n",
       "      <th>median_age</th>\n",
       "      <th>population_hispanic_latino</th>\n",
       "      <th>population_white</th>\n",
       "      <th>population_asian</th>\n",
       "      <th>zip_code</th>\n",
       "    </tr>\n",
       "  </thead>\n",
       "  <tbody>\n",
       "    <tr>\n",
       "      <th>0</th>\n",
       "      <td>67690</td>\n",
       "      <td>15232</td>\n",
       "      <td>8612</td>\n",
       "      <td>11555</td>\n",
       "      <td>4148</td>\n",
       "      <td>31.1</td>\n",
       "      <td>943</td>\n",
       "      <td>8110</td>\n",
       "      <td>3723</td>\n",
       "      <td>19107</td>\n",
       "    </tr>\n",
       "    <tr>\n",
       "      <th>1</th>\n",
       "      <td>70271</td>\n",
       "      <td>19104</td>\n",
       "      <td>7347</td>\n",
       "      <td>13799</td>\n",
       "      <td>1873</td>\n",
       "      <td>40.9</td>\n",
       "      <td>1191</td>\n",
       "      <td>17780</td>\n",
       "      <td>30</td>\n",
       "      <td>37015</td>\n",
       "    </tr>\n",
       "    <tr>\n",
       "      <th>2</th>\n",
       "      <td>71054</td>\n",
       "      <td>50347</td>\n",
       "      <td>22083</td>\n",
       "      <td>36811</td>\n",
       "      <td>7927</td>\n",
       "      <td>40.7</td>\n",
       "      <td>1924</td>\n",
       "      <td>43306</td>\n",
       "      <td>2151</td>\n",
       "      <td>63123</td>\n",
       "    </tr>\n",
       "    <tr>\n",
       "      <th>3</th>\n",
       "      <td>59973</td>\n",
       "      <td>40144</td>\n",
       "      <td>16034</td>\n",
       "      <td>27024</td>\n",
       "      <td>5699</td>\n",
       "      <td>34.8</td>\n",
       "      <td>3914</td>\n",
       "      <td>11592</td>\n",
       "      <td>298</td>\n",
       "      <td>37207</td>\n",
       "    </tr>\n",
       "    <tr>\n",
       "      <th>4</th>\n",
       "      <td>88878</td>\n",
       "      <td>17631</td>\n",
       "      <td>9754</td>\n",
       "      <td>14004</td>\n",
       "      <td>5130</td>\n",
       "      <td>36.3</td>\n",
       "      <td>4003</td>\n",
       "      <td>11664</td>\n",
       "      <td>696</td>\n",
       "      <td>33602</td>\n",
       "    </tr>\n",
       "  </tbody>\n",
       "</table>\n",
       "</div>"
      ],
      "text/plain": [
       "  median_household_income population household_cnt education_total  \\\n",
       "0                   67690      15232          8612           11555   \n",
       "1                   70271      19104          7347           13799   \n",
       "2                   71054      50347         22083           36811   \n",
       "3                   59973      40144         16034           27024   \n",
       "4                   88878      17631          9754           14004   \n",
       "\n",
       "  bachelors_degree median_age population_hispanic_latino population_white  \\\n",
       "0             4148       31.1                        943             8110   \n",
       "1             1873       40.9                       1191            17780   \n",
       "2             7927       40.7                       1924            43306   \n",
       "3             5699       34.8                       3914            11592   \n",
       "4             5130       36.3                       4003            11664   \n",
       "\n",
       "  population_asian zip_code  \n",
       "0             3723    19107  \n",
       "1               30    37015  \n",
       "2             2151    63123  \n",
       "3              298    37207  \n",
       "4              696    33602  "
      ]
     },
     "execution_count": 44,
     "metadata": {},
     "output_type": "execute_result"
    }
   ],
   "source": [
    "demographic_df.head()"
   ]
  },
  {
   "cell_type": "code",
   "execution_count": 45,
   "id": "51ac29fb",
   "metadata": {
    "id": "51ac29fb"
   },
   "outputs": [],
   "source": [
    "#store demographic data for subsequent use\n",
    "demographic_df.to_csv('data/demographics.csv',index=False)"
   ]
  }
 ],
 "metadata": {
  "colab": {
   "provenance": []
  },
  "kernelspec": {
   "display_name": "Python 3 (ipykernel)",
   "language": "python",
   "name": "python3"
  },
  "language_info": {
   "codemirror_mode": {
    "name": "ipython",
    "version": 3
   },
   "file_extension": ".py",
   "mimetype": "text/x-python",
   "name": "python",
   "nbconvert_exporter": "python",
   "pygments_lexer": "ipython3",
   "version": "3.9.18"
  }
 },
 "nbformat": 4,
 "nbformat_minor": 5
}
