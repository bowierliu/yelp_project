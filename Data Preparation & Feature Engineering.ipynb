{
 "cells": [
  {
   "cell_type": "markdown",
   "id": "a33f533f",
   "metadata": {},
   "source": [
    "<br>\n",
    "\n",
    "# Milestone1_3. Data Preparation & Feature Engineering\n",
    "\n",
    "Load, Clean Data Stored from the Previous Step and Create More Features\n",
    "\n",
    "## Team #30"
   ]
  },
  {
   "cell_type": "code",
   "execution_count": 1,
   "id": "31364ea1",
   "metadata": {},
   "outputs": [],
   "source": [
    "# nltk.download('vader_lexicon')"
   ]
  },
  {
   "cell_type": "code",
   "execution_count": 2,
   "id": "4a1e5ebb",
   "metadata": {},
   "outputs": [
    {
     "name": "stdout",
     "output_type": "stream",
     "text": [
      "Intel MKL WARNING: Support of Intel(R) Streaming SIMD Extensions 4.2 (Intel(R) SSE4.2) enabled only processors has been deprecated. Intel oneAPI Math Kernel Library 2025.0 will require Intel(R) Advanced Vector Extensions (Intel(R) AVX) instructions.\n",
      "Intel MKL WARNING: Support of Intel(R) Streaming SIMD Extensions 4.2 (Intel(R) SSE4.2) enabled only processors has been deprecated. Intel oneAPI Math Kernel Library 2025.0 will require Intel(R) Advanced Vector Extensions (Intel(R) AVX) instructions.\n"
     ]
    }
   ],
   "source": [
    "import pandas as pd\n",
    "import numpy as np\n",
    "import altair as alt\n",
    "import datetime as dt\n",
    "from nltk.sentiment import SentimentIntensityAnalyzer"
   ]
  },
  {
   "cell_type": "markdown",
   "id": "d014efb9",
   "metadata": {},
   "source": [
    "<br>\n",
    "\n",
    "## 3.1. Restaurant Table - Cleaning & Feature Engineering"
   ]
  },
  {
   "cell_type": "code",
   "execution_count": 3,
   "id": "1b100177",
   "metadata": {},
   "outputs": [
    {
     "name": "stdout",
     "output_type": "stream",
     "text": [
      "(49875, 51)\n",
      "business_id                    object\n",
      "name                           object\n",
      "address                        object\n",
      "city                           object\n",
      "state                          object\n",
      "postal_code                   float64\n",
      "latitude                      float64\n",
      "longitude                     float64\n",
      "stars                         float64\n",
      "review_count                    int64\n",
      "is_open                         int64\n",
      "categories                     object\n",
      "RestaurantsDelivery            object\n",
      "OutdoorSeating                 object\n",
      "BusinessAcceptsCreditCards     object\n",
      "BikeParking                    object\n",
      "RestaurantsPriceRange2         object\n",
      "RestaurantsTakeOut             object\n",
      "ByAppointmentOnly              object\n",
      "WiFi                           object\n",
      "Alcohol                        object\n",
      "Caters                         object\n",
      "RestaurantsAttire              object\n",
      "RestaurantsReservations        object\n",
      "GoodForKids                    object\n",
      "CoatCheck                      object\n",
      "DogsAllowed                    object\n",
      "RestaurantsTableService        object\n",
      "RestaurantsGoodForGroups       object\n",
      "WheelchairAccessible           object\n",
      "HasTV                          object\n",
      "HappyHour                      object\n",
      "DriveThru                      object\n",
      "NoiseLevel                     object\n",
      "BusinessAcceptsBitcoin         object\n",
      "Smoking                        object\n",
      "GoodForDancing                 object\n",
      "BYOB                           object\n",
      "Corkage                        object\n",
      "BYOBCorkage                    object\n",
      "RestaurantsCounterService      object\n",
      "Open24Hours                    object\n",
      "AgesAllowed                    object\n",
      "AcceptsInsurance               object\n",
      "Monday                         object\n",
      "Tuesday                        object\n",
      "Wednesday                      object\n",
      "Thursday                       object\n",
      "Friday                         object\n",
      "Saturday                       object\n",
      "Sunday                         object\n",
      "dtype: object\n"
     ]
    }
   ],
   "source": [
    "# Load and check data shape, data type\n",
    "restaurant = pd.read_csv('data/restaurant.csv', low_memory=False)\n",
    "print(restaurant.shape)\n",
    "print(restaurant.dtypes)"
   ]
  },
  {
   "cell_type": "markdown",
   "id": "02e21d34",
   "metadata": {},
   "source": [
    "### 3.1.1. Drop columns that are irrelevant"
   ]
  },
  {
   "cell_type": "code",
   "execution_count": 4,
   "id": "766eacb1",
   "metadata": {},
   "outputs": [],
   "source": [
    "# Drop restaurant address as it is not relevant to the analysis\n",
    "restaurant.drop(columns=['address'], inplace=True)"
   ]
  },
  {
   "cell_type": "code",
   "execution_count": 5,
   "id": "e91f3585",
   "metadata": {},
   "outputs": [],
   "source": [
    "# Drop columns for schedule as the data is quite messy and not very relevant to the analysis\n",
    "restaurant.drop(columns=['Monday', 'Tuesday',\n",
    "       'Wednesday', 'Thursday', 'Friday', 'Saturday', 'Sunday'], inplace=True)"
   ]
  },
  {
   "cell_type": "markdown",
   "id": "7a694f9c",
   "metadata": {},
   "source": [
    "### 3.1.2. Handling missing values"
   ]
  },
  {
   "cell_type": "markdown",
   "id": "e934f9d0",
   "metadata": {},
   "source": [
    "#### 3.1.2.1. For essential columns, drop records with missing values"
   ]
  },
  {
   "cell_type": "code",
   "execution_count": 6,
   "id": "06670fef",
   "metadata": {},
   "outputs": [],
   "source": [
    "# Drop rows missing zip code info, which is important for the next steps\n",
    "restaurant.dropna(subset=['postal_code'], inplace=True)"
   ]
  },
  {
   "cell_type": "markdown",
   "id": "d67d4af2",
   "metadata": {},
   "source": [
    "#### 3.1.2.2. Check & drop non-essential columns with >50% missingness"
   ]
  },
  {
   "cell_type": "code",
   "execution_count": 7,
   "id": "4571fc8b",
   "metadata": {},
   "outputs": [
    {
     "data": {
      "text/plain": [
       "ByAppointmentOnly            0.934\n",
       "CoatCheck                    0.917\n",
       "DogsAllowed                  0.775\n",
       "RestaurantsTableService      0.620\n",
       "WheelchairAccessible         0.737\n",
       "HappyHour                    0.746\n",
       "DriveThru                    0.878\n",
       "BusinessAcceptsBitcoin       0.865\n",
       "Smoking                      0.933\n",
       "GoodForDancing               0.930\n",
       "BYOB                         0.917\n",
       "Corkage                      0.933\n",
       "BYOBCorkage                  0.971\n",
       "RestaurantsCounterService    1.000\n",
       "Open24Hours                  1.000\n",
       "AgesAllowed                  0.998\n",
       "AcceptsInsurance             1.000\n",
       "dtype: float64"
      ]
     },
     "execution_count": 7,
     "metadata": {},
     "output_type": "execute_result"
    }
   ],
   "source": [
    "s = (restaurant.isna().sum() / restaurant.shape[0]).round(3)\n",
    "s[s>0.5]"
   ]
  },
  {
   "cell_type": "code",
   "execution_count": 8,
   "id": "ca1d8155",
   "metadata": {},
   "outputs": [
    {
     "data": {
      "text/plain": [
       "False    3174\n",
       "True      121\n",
       "None        1\n",
       "Name: ByAppointmentOnly, dtype: int64"
      ]
     },
     "execution_count": 8,
     "metadata": {},
     "output_type": "execute_result"
    }
   ],
   "source": [
    "restaurant.ByAppointmentOnly.value_counts()"
   ]
  },
  {
   "cell_type": "code",
   "execution_count": 9,
   "id": "ac8156ee",
   "metadata": {},
   "outputs": [
    {
     "data": {
      "text/plain": [
       "False    8422\n",
       "True     2758\n",
       "None       13\n",
       "Name: DogsAllowed, dtype: int64"
      ]
     },
     "execution_count": 9,
     "metadata": {},
     "output_type": "execute_result"
    }
   ],
   "source": [
    "restaurant.DogsAllowed.value_counts()"
   ]
  },
  {
   "cell_type": "code",
   "execution_count": 10,
   "id": "92a40cbd",
   "metadata": {},
   "outputs": [
    {
     "data": {
      "text/plain": [
       "True     8296\n",
       "False    4379\n",
       "None        1\n",
       "Name: HappyHour, dtype: int64"
      ]
     },
     "execution_count": 10,
     "metadata": {},
     "output_type": "execute_result"
    }
   ],
   "source": [
    "restaurant.HappyHour.value_counts()"
   ]
  },
  {
   "cell_type": "code",
   "execution_count": 11,
   "id": "f4f2adf2",
   "metadata": {},
   "outputs": [
    {
     "data": {
      "text/plain": [
       "True     3387\n",
       "False    2307\n",
       "None      367\n",
       "Name: DriveThru, dtype: int64"
      ]
     },
     "execution_count": 11,
     "metadata": {},
     "output_type": "execute_result"
    }
   ],
   "source": [
    "restaurant.DriveThru.value_counts()"
   ]
  },
  {
   "cell_type": "code",
   "execution_count": 12,
   "id": "55ec0b04",
   "metadata": {},
   "outputs": [],
   "source": [
    "# Drop columns with more than 50% na values\n",
    "restaurant.drop(columns=s[s>0.5].index, inplace=True)"
   ]
  },
  {
   "cell_type": "markdown",
   "id": "70b5170c",
   "metadata": {},
   "source": [
    "#### 3.1.2.3. One-Hot Encoding & Replace remaining missing values based on judgement calls"
   ]
  },
  {
   "cell_type": "code",
   "execution_count": 13,
   "id": "139db9d3",
   "metadata": {},
   "outputs": [
    {
     "name": "stdout",
     "output_type": "stream",
     "text": [
      "8716\n"
     ]
    },
    {
     "data": {
      "text/plain": [
       "True     26391\n",
       "False    16577\n",
       "None      2589\n",
       "Name: RestaurantsDelivery, dtype: int64"
      ]
     },
     "execution_count": 13,
     "metadata": {},
     "output_type": "execute_result"
    }
   ],
   "source": [
    "print(f'{restaurant.RestaurantsReservations.isna().sum()}')\n",
    "restaurant.RestaurantsDelivery.value_counts()"
   ]
  },
  {
   "cell_type": "code",
   "execution_count": 14,
   "id": "678487d8",
   "metadata": {},
   "outputs": [],
   "source": [
    "# Assume False for na and None and covert to binary\n",
    "restaurant['RestaurantsDelivery'] = np.where(restaurant.RestaurantsDelivery=='True', 1, 0)"
   ]
  },
  {
   "cell_type": "code",
   "execution_count": 15,
   "id": "65c43b95",
   "metadata": {},
   "outputs": [
    {
     "name": "stdout",
     "output_type": "stream",
     "text": [
      "8098\n"
     ]
    },
    {
     "data": {
      "text/plain": [
       "False    20703\n",
       "True     19357\n",
       "None      1698\n",
       "Name: OutdoorSeating, dtype: int64"
      ]
     },
     "execution_count": 15,
     "metadata": {},
     "output_type": "execute_result"
    }
   ],
   "source": [
    "print(f'{restaurant.OutdoorSeating.isna().sum()}')\n",
    "restaurant.OutdoorSeating.value_counts()"
   ]
  },
  {
   "cell_type": "code",
   "execution_count": 16,
   "id": "8f97f3e9",
   "metadata": {},
   "outputs": [],
   "source": [
    "# Assume False for na and None and covert to binary\n",
    "restaurant.OutdoorSeating = np.where(restaurant.OutdoorSeating=='True', 1, 0)"
   ]
  },
  {
   "cell_type": "code",
   "execution_count": 17,
   "id": "6da257fa",
   "metadata": {},
   "outputs": [
    {
     "name": "stdout",
     "output_type": "stream",
     "text": [
      "4426\n"
     ]
    },
    {
     "data": {
      "text/plain": [
       "True     44003\n",
       "False     1404\n",
       "None        23\n",
       "Name: BusinessAcceptsCreditCards, dtype: int64"
      ]
     },
     "execution_count": 17,
     "metadata": {},
     "output_type": "execute_result"
    }
   ],
   "source": [
    "print(f'{restaurant.BusinessAcceptsCreditCards.isna().sum()}')\n",
    "restaurant.BusinessAcceptsCreditCards.value_counts()"
   ]
  },
  {
   "cell_type": "code",
   "execution_count": 18,
   "id": "4c9b435f",
   "metadata": {},
   "outputs": [],
   "source": [
    "# Assume False for na and None and covert to binary\n",
    "restaurant.BusinessAcceptsCreditCards = np.where(restaurant.BusinessAcceptsCreditCards=='True', 1, 0)"
   ]
  },
  {
   "cell_type": "code",
   "execution_count": 19,
   "id": "8fd06fbf",
   "metadata": {},
   "outputs": [
    {
     "name": "stdout",
     "output_type": "stream",
     "text": [
      "15891\n"
     ]
    },
    {
     "data": {
      "text/plain": [
       "True     25024\n",
       "False     8918\n",
       "None        23\n",
       "Name: BikeParking, dtype: int64"
      ]
     },
     "execution_count": 19,
     "metadata": {},
     "output_type": "execute_result"
    }
   ],
   "source": [
    "print(f'{restaurant.BikeParking.isna().sum()}')\n",
    "restaurant.BikeParking.value_counts()"
   ]
  },
  {
   "cell_type": "code",
   "execution_count": 20,
   "id": "8745ea1a",
   "metadata": {},
   "outputs": [],
   "source": [
    "# Assume False for na and None and covert to binary\n",
    "restaurant.BikeParking = np.where(restaurant.BikeParking=='True', 1, 0)"
   ]
  },
  {
   "cell_type": "code",
   "execution_count": 21,
   "id": "085daa51",
   "metadata": {},
   "outputs": [
    {
     "name": "stdout",
     "output_type": "stream",
     "text": [
      "7274\n"
     ]
    },
    {
     "data": {
      "text/plain": [
       "2       21739\n",
       "1       19139\n",
       "3        1512\n",
       "4         179\n",
       "None       13\n",
       "Name: RestaurantsPriceRange2, dtype: int64"
      ]
     },
     "execution_count": 21,
     "metadata": {},
     "output_type": "execute_result"
    }
   ],
   "source": [
    "print(f'{restaurant.RestaurantsPriceRange2.isna().sum()}')\n",
    "restaurant.RestaurantsPriceRange2.value_counts()"
   ]
  },
  {
   "cell_type": "code",
   "execution_count": 22,
   "id": "299d0b25",
   "metadata": {},
   "outputs": [],
   "source": [
    "# Change na or None value to '99'; keep as a categorical variable\n",
    "restaurant['RestaurantsPriceRange'] = np.where(restaurant.RestaurantsPriceRange2=='None', '99', \n",
    "                                           np.where(restaurant.RestaurantsPriceRange2.isna(), '99', \n",
    "                                                   restaurant.RestaurantsPriceRange2))"
   ]
  },
  {
   "cell_type": "code",
   "execution_count": 23,
   "id": "5c446853",
   "metadata": {},
   "outputs": [
    {
     "data": {
      "text/plain": [
       "2     21739\n",
       "1     19139\n",
       "99     7287\n",
       "3      1512\n",
       "4       179\n",
       "Name: RestaurantsPriceRange, dtype: int64"
      ]
     },
     "execution_count": 23,
     "metadata": {},
     "output_type": "execute_result"
    }
   ],
   "source": [
    "restaurant.RestaurantsPriceRange.value_counts()"
   ]
  },
  {
   "cell_type": "code",
   "execution_count": 24,
   "id": "33ef2de1",
   "metadata": {},
   "outputs": [
    {
     "data": {
      "text/plain": [
       "RestaurantsPriceRange\n",
       "1     3.302027\n",
       "2     3.591012\n",
       "3     3.693452\n",
       "4     3.689944\n",
       "99    3.813298\n",
       "Name: stars, dtype: float64"
      ]
     },
     "execution_count": 24,
     "metadata": {},
     "output_type": "execute_result"
    }
   ],
   "source": [
    "restaurant.groupby('RestaurantsPriceRange').stars.mean()"
   ]
  },
  {
   "cell_type": "code",
   "execution_count": 25,
   "id": "d2e9ea04",
   "metadata": {},
   "outputs": [],
   "source": [
    "restaurant['expensive'] = np.where(restaurant.RestaurantsPriceRange.isin(['3','4']), 1, 0)"
   ]
  },
  {
   "cell_type": "code",
   "execution_count": 26,
   "id": "be718032",
   "metadata": {},
   "outputs": [
    {
     "data": {
      "text/plain": [
       "0    48165\n",
       "1     1691\n",
       "Name: expensive, dtype: int64"
      ]
     },
     "execution_count": 26,
     "metadata": {},
     "output_type": "execute_result"
    }
   ],
   "source": [
    "restaurant.expensive.value_counts()"
   ]
  },
  {
   "cell_type": "code",
   "execution_count": 27,
   "id": "95d9593a",
   "metadata": {},
   "outputs": [
    {
     "data": {
      "text/plain": [
       "expensive\n",
       "0    3.509810\n",
       "1    3.693081\n",
       "Name: stars, dtype: float64"
      ]
     },
     "execution_count": 27,
     "metadata": {},
     "output_type": "execute_result"
    }
   ],
   "source": [
    "restaurant.groupby('expensive').stars.mean()"
   ]
  },
  {
   "cell_type": "code",
   "execution_count": 28,
   "id": "556c7469",
   "metadata": {},
   "outputs": [],
   "source": [
    "restaurant.drop(columns=['RestaurantsPriceRange2'],inplace=True)"
   ]
  },
  {
   "cell_type": "code",
   "execution_count": 29,
   "id": "1e29ea5d",
   "metadata": {},
   "outputs": [
    {
     "name": "stdout",
     "output_type": "stream",
     "text": [
      "3295\n"
     ]
    },
    {
     "data": {
      "text/plain": [
       "True     43378\n",
       "False     2104\n",
       "None      1079\n",
       "Name: RestaurantsTakeOut, dtype: int64"
      ]
     },
     "execution_count": 29,
     "metadata": {},
     "output_type": "execute_result"
    }
   ],
   "source": [
    "print(f'{restaurant.RestaurantsTakeOut.isna().sum()}')\n",
    "restaurant.RestaurantsTakeOut.value_counts()"
   ]
  },
  {
   "cell_type": "code",
   "execution_count": 30,
   "id": "3884cdb6",
   "metadata": {},
   "outputs": [],
   "source": [
    "# Assume False for na and None and covert to binary\n",
    "restaurant.RestaurantsTakeOut = np.where(restaurant.RestaurantsTakeOut=='True', 1, 0)"
   ]
  },
  {
   "cell_type": "code",
   "execution_count": 31,
   "id": "bc55014b",
   "metadata": {},
   "outputs": [
    {
     "name": "stdout",
     "output_type": "stream",
     "text": [
      "13741\n"
     ]
    },
    {
     "data": {
      "text/plain": [
       "u'free'    14255\n",
       "u'no'      10926\n",
       "'no'        5451\n",
       "'free'      5207\n",
       "u'paid'      152\n",
       "'paid'        92\n",
       "None          32\n",
       "Name: WiFi, dtype: int64"
      ]
     },
     "execution_count": 31,
     "metadata": {},
     "output_type": "execute_result"
    }
   ],
   "source": [
    "print(f'{restaurant.WiFi.isna().sum()}')\n",
    "restaurant.WiFi.value_counts()"
   ]
  },
  {
   "cell_type": "code",
   "execution_count": 32,
   "id": "c5040151",
   "metadata": {},
   "outputs": [],
   "source": [
    "# Convert to binary based on if free WiFi is stated available\n",
    "restaurant['free_WiFi'] = np.where(restaurant.WiFi.isna(), 0,\n",
    "                                   np.where(restaurant.WiFi.str.contains('free'), 1, 0))"
   ]
  },
  {
   "cell_type": "code",
   "execution_count": 33,
   "id": "2118f730",
   "metadata": {},
   "outputs": [],
   "source": [
    "restaurant.drop(columns=['WiFi'], inplace=True)"
   ]
  },
  {
   "cell_type": "code",
   "execution_count": 34,
   "id": "520f17d6",
   "metadata": {},
   "outputs": [
    {
     "name": "stdout",
     "output_type": "stream",
     "text": [
      "11543\n"
     ]
    },
    {
     "data": {
      "text/plain": [
       "u'none'             15162\n",
       "u'full_bar'         10747\n",
       "'none'               4540\n",
       "u'beer_and_wine'     4391\n",
       "'full_bar'           2367\n",
       "'beer_and_wine'      1077\n",
       "None                   29\n",
       "Name: Alcohol, dtype: int64"
      ]
     },
     "execution_count": 34,
     "metadata": {},
     "output_type": "execute_result"
    }
   ],
   "source": [
    "print(f'{restaurant.Alcohol.isna().sum()}')\n",
    "restaurant.Alcohol.value_counts()"
   ]
  },
  {
   "cell_type": "code",
   "execution_count": 35,
   "id": "c005307f",
   "metadata": {},
   "outputs": [],
   "source": [
    "# Convert to binary based on if alcohol is stated available\n",
    "restaurant.Alcohol = np.where(restaurant.Alcohol.isna(), 0,\n",
    "                                   np.where(restaurant.Alcohol.str.contains('full_bar'), 1, \n",
    "                                            np.where(restaurant.Alcohol.str.contains('beer_and_wine'), 1,0)))"
   ]
  },
  {
   "cell_type": "code",
   "execution_count": 36,
   "id": "2fe541b1",
   "metadata": {},
   "outputs": [
    {
     "name": "stdout",
     "output_type": "stream",
     "text": [
      "16652\n"
     ]
    },
    {
     "data": {
      "text/plain": [
       "True     19917\n",
       "False    13243\n",
       "None        44\n",
       "Name: Caters, dtype: int64"
      ]
     },
     "execution_count": 36,
     "metadata": {},
     "output_type": "execute_result"
    }
   ],
   "source": [
    "print(f'{restaurant.Caters.isna().sum()}')\n",
    "restaurant.Caters.value_counts()"
   ]
  },
  {
   "cell_type": "code",
   "execution_count": 37,
   "id": "c1700d4e",
   "metadata": {},
   "outputs": [],
   "source": [
    "# Assume False for na and None and covert to binary\n",
    "restaurant.Caters = np.where(restaurant.Caters=='True', 1, 0)"
   ]
  },
  {
   "cell_type": "code",
   "execution_count": 38,
   "id": "69a118fb",
   "metadata": {},
   "outputs": [
    {
     "name": "stdout",
     "output_type": "stream",
     "text": [
      "missing: 12645\n"
     ]
    },
    {
     "data": {
      "text/plain": [
       "u'casual'    21849\n",
       "'casual'     14538\n",
       "u'dressy'      469\n",
       "'dressy'       257\n",
       "'formal'        37\n",
       "None            33\n",
       "u'formal'       28\n",
       "Name: RestaurantsAttire, dtype: int64"
      ]
     },
     "execution_count": 38,
     "metadata": {},
     "output_type": "execute_result"
    }
   ],
   "source": [
    "print(f'missing: {restaurant.RestaurantsAttire.isna().sum()}')\n",
    "restaurant.RestaurantsAttire.value_counts()"
   ]
  },
  {
   "cell_type": "code",
   "execution_count": 39,
   "id": "31e2e4fb",
   "metadata": {},
   "outputs": [
    {
     "data": {
      "text/plain": [
       "RestaurantsAttire\n",
       "'casual'     3.422961\n",
       "'dressy'     3.704280\n",
       "'formal'     2.918919\n",
       "None         3.151515\n",
       "u'casual'    3.468992\n",
       "u'dressy'    3.731343\n",
       "u'formal'    3.142857\n",
       "Name: stars, dtype: float64"
      ]
     },
     "execution_count": 39,
     "metadata": {},
     "output_type": "execute_result"
    }
   ],
   "source": [
    "restaurant.groupby('RestaurantsAttire').stars.mean()"
   ]
  },
  {
   "cell_type": "code",
   "execution_count": 40,
   "id": "041c8578",
   "metadata": {},
   "outputs": [
    {
     "data": {
      "text/plain": [
       "0    49130\n",
       "1      726\n",
       "Name: attire_dressy, dtype: int64"
      ]
     },
     "execution_count": 40,
     "metadata": {},
     "output_type": "execute_result"
    }
   ],
   "source": [
    "# Covert to binary with 1 for dressy and 0 for the rest\n",
    "restaurant['attire_dressy'] = np.where(restaurant.RestaurantsAttire.isna(), 0,\n",
    "                                       np.where(restaurant.RestaurantsAttire.str.contains('dressy'),1,0))\n",
    "\n",
    "restaurant['attire_dressy'].value_counts()"
   ]
  },
  {
   "cell_type": "code",
   "execution_count": 41,
   "id": "b9c12d88",
   "metadata": {},
   "outputs": [],
   "source": [
    "restaurant.drop(columns=['RestaurantsAttire'], inplace=True)"
   ]
  },
  {
   "cell_type": "code",
   "execution_count": 42,
   "id": "545eff5e",
   "metadata": {},
   "outputs": [
    {
     "name": "stdout",
     "output_type": "stream",
     "text": [
      "8716\n"
     ]
    },
    {
     "data": {
      "text/plain": [
       "False    27528\n",
       "True     13372\n",
       "None       240\n",
       "Name: RestaurantsReservations, dtype: int64"
      ]
     },
     "execution_count": 42,
     "metadata": {},
     "output_type": "execute_result"
    }
   ],
   "source": [
    "print(f'{restaurant.RestaurantsReservations.isna().sum()}')\n",
    "restaurant.RestaurantsReservations.value_counts()"
   ]
  },
  {
   "cell_type": "code",
   "execution_count": 43,
   "id": "cd0902eb",
   "metadata": {},
   "outputs": [],
   "source": [
    "# Assume False for na and None and covert to binary\n",
    "restaurant.RestaurantsReservations = np.where(restaurant.RestaurantsReservations=='True',1,0)"
   ]
  },
  {
   "cell_type": "code",
   "execution_count": 44,
   "id": "e09c8224",
   "metadata": {},
   "outputs": [
    {
     "name": "stdout",
     "output_type": "stream",
     "text": [
      "10775\n"
     ]
    },
    {
     "data": {
      "text/plain": [
       "True     33216\n",
       "False     5846\n",
       "None        19\n",
       "Name: GoodForKids, dtype: int64"
      ]
     },
     "execution_count": 44,
     "metadata": {},
     "output_type": "execute_result"
    }
   ],
   "source": [
    "print(f'{restaurant.GoodForKids.isna().sum()}')\n",
    "restaurant.GoodForKids.value_counts()"
   ]
  },
  {
   "cell_type": "code",
   "execution_count": 45,
   "id": "664de27d",
   "metadata": {},
   "outputs": [],
   "source": [
    "# Assume False for na and None and covert to binary\n",
    "restaurant.GoodForKids = np.where(restaurant.GoodForKids=='True',1,0)"
   ]
  },
  {
   "cell_type": "code",
   "execution_count": 46,
   "id": "66c7c5ee",
   "metadata": {},
   "outputs": [
    {
     "name": "stdout",
     "output_type": "stream",
     "text": [
      "10314\n"
     ]
    },
    {
     "data": {
      "text/plain": [
       "True     33887\n",
       "False     5640\n",
       "None        15\n",
       "Name: RestaurantsGoodForGroups, dtype: int64"
      ]
     },
     "execution_count": 46,
     "metadata": {},
     "output_type": "execute_result"
    }
   ],
   "source": [
    "print(f'{restaurant.RestaurantsGoodForGroups.isna().sum()}')\n",
    "restaurant.RestaurantsGoodForGroups.value_counts()"
   ]
  },
  {
   "cell_type": "code",
   "execution_count": 47,
   "id": "83019014",
   "metadata": {},
   "outputs": [],
   "source": [
    "# Assume False for na and None and covert to binary\n",
    "restaurant.RestaurantsGoodForGroups = np.where(restaurant.RestaurantsGoodForGroups=='True',1,0)"
   ]
  },
  {
   "cell_type": "code",
   "execution_count": 48,
   "id": "6234aed9",
   "metadata": {},
   "outputs": [
    {
     "name": "stdout",
     "output_type": "stream",
     "text": [
      "9849\n"
     ]
    },
    {
     "data": {
      "text/plain": [
       "True     30295\n",
       "False     9695\n",
       "None        17\n",
       "Name: HasTV, dtype: int64"
      ]
     },
     "execution_count": 48,
     "metadata": {},
     "output_type": "execute_result"
    }
   ],
   "source": [
    "print(f'{restaurant.HasTV.isna().sum()}')\n",
    "restaurant.HasTV.value_counts()"
   ]
  },
  {
   "cell_type": "code",
   "execution_count": 49,
   "id": "6874aed7",
   "metadata": {},
   "outputs": [],
   "source": [
    "# Assume False for na and None and covert to binary\n",
    "restaurant.HasTV = np.where(restaurant.HasTV=='True',1,0)"
   ]
  },
  {
   "cell_type": "code",
   "execution_count": 50,
   "id": "e2ded794",
   "metadata": {},
   "outputs": [
    {
     "name": "stdout",
     "output_type": "stream",
     "text": [
      "16574\n"
     ]
    },
    {
     "data": {
      "text/plain": [
       "u'average'      19217\n",
       "u'quiet'         5670\n",
       "'average'        4235\n",
       "u'loud'          1867\n",
       "'quiet'          1094\n",
       "u'very_loud'      690\n",
       "'loud'            363\n",
       "'very_loud'       113\n",
       "None               33\n",
       "Name: NoiseLevel, dtype: int64"
      ]
     },
     "execution_count": 50,
     "metadata": {},
     "output_type": "execute_result"
    }
   ],
   "source": [
    "print(f'{restaurant.NoiseLevel.isna().sum()}')\n",
    "restaurant.NoiseLevel.value_counts()"
   ]
  },
  {
   "cell_type": "code",
   "execution_count": 51,
   "id": "fad9270e",
   "metadata": {},
   "outputs": [
    {
     "data": {
      "text/plain": [
       "average    23452\n",
       "unknown    16607\n",
       "quiet       6764\n",
       "loud        3033\n",
       "Name: NoiseLevel, dtype: int64"
      ]
     },
     "execution_count": 51,
     "metadata": {},
     "output_type": "execute_result"
    }
   ],
   "source": [
    "# Convert missing value to 'unknown'\n",
    "restaurant.NoiseLevel = np.where(restaurant.NoiseLevel.isna() | (restaurant.NoiseLevel=='None'), 'unknown',\n",
    "                                np.where(restaurant.NoiseLevel.str.contains('quiet'), 'quiet',\n",
    "                                        np.where(restaurant.NoiseLevel.str.contains('average'), 'average','loud')))\n",
    "\n",
    "restaurant.NoiseLevel.value_counts()"
   ]
  },
  {
   "cell_type": "code",
   "execution_count": 52,
   "id": "701be6bf",
   "metadata": {},
   "outputs": [
    {
     "data": {
      "text/plain": [
       "NoiseLevel\n",
       "average    3.554025\n",
       "loud       3.138147\n",
       "quiet      3.592992\n",
       "unknown    3.500030\n",
       "Name: stars, dtype: float64"
      ]
     },
     "execution_count": 52,
     "metadata": {},
     "output_type": "execute_result"
    }
   ],
   "source": [
    "restaurant.groupby('NoiseLevel').stars.mean()"
   ]
  },
  {
   "cell_type": "code",
   "execution_count": 53,
   "id": "06d7e744",
   "metadata": {},
   "outputs": [
    {
     "data": {
      "text/plain": [
       "0    46823\n",
       "1     3033\n",
       "Name: noise_loud, dtype: int64"
      ]
     },
     "execution_count": 53,
     "metadata": {},
     "output_type": "execute_result"
    }
   ],
   "source": [
    "restaurant['noise_loud'] = np.where(restaurant.NoiseLevel=='loud', 1, 0)\n",
    "\n",
    "restaurant.noise_loud.value_counts()"
   ]
  },
  {
   "cell_type": "code",
   "execution_count": 54,
   "id": "5cffaf6c",
   "metadata": {},
   "outputs": [
    {
     "name": "stdout",
     "output_type": "stream",
     "text": [
      "(49856, 28)\n",
      "missing values: 0\n"
     ]
    }
   ],
   "source": [
    "print(restaurant.shape)\n",
    "print(f'missing values: {restaurant.isna().sum().sum()}')"
   ]
  },
  {
   "cell_type": "markdown",
   "id": "ff97a5a9",
   "metadata": {},
   "source": [
    "<br>\n",
    "\n",
    "## 3.2. Join Table Demographics & Create New Features"
   ]
  },
  {
   "cell_type": "code",
   "execution_count": 55,
   "id": "1de35e6d",
   "metadata": {},
   "outputs": [
    {
     "name": "stdout",
     "output_type": "stream",
     "text": [
      "(803, 10)\n",
      "median_household_income         int64\n",
      "population                      int64\n",
      "household_cnt                   int64\n",
      "education_total                 int64\n",
      "bachelors_degree                int64\n",
      "median_age                    float64\n",
      "population_hispanic_latino      int64\n",
      "population_white                int64\n",
      "population_asian                int64\n",
      "zip_code                        int64\n",
      "dtype: object\n"
     ]
    }
   ],
   "source": [
    "# Load and check data shape, data type\n",
    "demographics = pd.read_csv('data/demographics.csv', low_memory=False)\n",
    "print(demographics.shape)\n",
    "print(demographics.dtypes)"
   ]
  },
  {
   "cell_type": "code",
   "execution_count": 56,
   "id": "0340464a",
   "metadata": {},
   "outputs": [
    {
     "data": {
      "text/plain": [
       "median_household_income       0\n",
       "population                    0\n",
       "household_cnt                 0\n",
       "education_total               0\n",
       "bachelors_degree              0\n",
       "median_age                    0\n",
       "population_hispanic_latino    0\n",
       "population_white              0\n",
       "population_asian              0\n",
       "zip_code                      0\n",
       "dtype: int64"
      ]
     },
     "execution_count": 56,
     "metadata": {},
     "output_type": "execute_result"
    }
   ],
   "source": [
    "demographics.isna().sum()"
   ]
  },
  {
   "cell_type": "markdown",
   "id": "b78db998",
   "metadata": {},
   "source": [
    "### 3.2.1. Check errors & outliers"
   ]
  },
  {
   "cell_type": "code",
   "execution_count": 57,
   "id": "98086ae3",
   "metadata": {},
   "outputs": [
    {
     "data": {
      "text/html": [
       "<div>\n",
       "<style scoped>\n",
       "    .dataframe tbody tr th:only-of-type {\n",
       "        vertical-align: middle;\n",
       "    }\n",
       "\n",
       "    .dataframe tbody tr th {\n",
       "        vertical-align: top;\n",
       "    }\n",
       "\n",
       "    .dataframe thead th {\n",
       "        text-align: right;\n",
       "    }\n",
       "</style>\n",
       "<table border=\"1\" class=\"dataframe\">\n",
       "  <thead>\n",
       "    <tr style=\"text-align: right;\">\n",
       "      <th></th>\n",
       "      <th>median_household_income</th>\n",
       "      <th>population</th>\n",
       "      <th>household_cnt</th>\n",
       "      <th>education_total</th>\n",
       "      <th>bachelors_degree</th>\n",
       "      <th>median_age</th>\n",
       "      <th>population_hispanic_latino</th>\n",
       "      <th>population_white</th>\n",
       "      <th>population_asian</th>\n",
       "      <th>zip_code</th>\n",
       "    </tr>\n",
       "  </thead>\n",
       "  <tbody>\n",
       "    <tr>\n",
       "      <th>count</th>\n",
       "      <td>8.030000e+02</td>\n",
       "      <td>803.00000</td>\n",
       "      <td>803.000000</td>\n",
       "      <td>803.000000</td>\n",
       "      <td>803.000000</td>\n",
       "      <td>8.030000e+02</td>\n",
       "      <td>803.000000</td>\n",
       "      <td>803.000000</td>\n",
       "      <td>803.000000</td>\n",
       "      <td>803.000000</td>\n",
       "    </tr>\n",
       "    <tr>\n",
       "      <th>mean</th>\n",
       "      <td>-2.482294e+07</td>\n",
       "      <td>22442.67995</td>\n",
       "      <td>8900.798257</td>\n",
       "      <td>15586.884184</td>\n",
       "      <td>3622.198007</td>\n",
       "      <td>-9.132380e+06</td>\n",
       "      <td>3080.188045</td>\n",
       "      <td>14691.877958</td>\n",
       "      <td>1030.471980</td>\n",
       "      <td>38983.298879</td>\n",
       "    </tr>\n",
       "    <tr>\n",
       "      <th>std</th>\n",
       "      <td>1.265234e+08</td>\n",
       "      <td>15956.03988</td>\n",
       "      <td>6241.768935</td>\n",
       "      <td>10840.566256</td>\n",
       "      <td>2972.701775</td>\n",
       "      <td>7.753945e+07</td>\n",
       "      <td>4983.997146</td>\n",
       "      <td>11392.918007</td>\n",
       "      <td>1495.792344</td>\n",
       "      <td>24856.106015</td>\n",
       "    </tr>\n",
       "    <tr>\n",
       "      <th>min</th>\n",
       "      <td>-6.666667e+08</td>\n",
       "      <td>0.00000</td>\n",
       "      <td>0.000000</td>\n",
       "      <td>0.000000</td>\n",
       "      <td>0.000000</td>\n",
       "      <td>-6.666667e+08</td>\n",
       "      <td>0.000000</td>\n",
       "      <td>0.000000</td>\n",
       "      <td>0.000000</td>\n",
       "      <td>7836.000000</td>\n",
       "    </tr>\n",
       "    <tr>\n",
       "      <th>25%</th>\n",
       "      <td>5.891150e+04</td>\n",
       "      <td>9690.50000</td>\n",
       "      <td>3876.500000</td>\n",
       "      <td>6929.500000</td>\n",
       "      <td>1330.500000</td>\n",
       "      <td>3.645000e+01</td>\n",
       "      <td>414.500000</td>\n",
       "      <td>5688.500000</td>\n",
       "      <td>161.000000</td>\n",
       "      <td>19086.500000</td>\n",
       "    </tr>\n",
       "    <tr>\n",
       "      <th>50%</th>\n",
       "      <td>8.051900e+04</td>\n",
       "      <td>19863.00000</td>\n",
       "      <td>7957.000000</td>\n",
       "      <td>13967.000000</td>\n",
       "      <td>3038.000000</td>\n",
       "      <td>4.000000e+01</td>\n",
       "      <td>1292.000000</td>\n",
       "      <td>13006.000000</td>\n",
       "      <td>519.000000</td>\n",
       "      <td>33711.000000</td>\n",
       "    </tr>\n",
       "    <tr>\n",
       "      <th>75%</th>\n",
       "      <td>1.034425e+05</td>\n",
       "      <td>32344.00000</td>\n",
       "      <td>12898.000000</td>\n",
       "      <td>22168.500000</td>\n",
       "      <td>5121.000000</td>\n",
       "      <td>4.420000e+01</td>\n",
       "      <td>3375.000000</td>\n",
       "      <td>21210.500000</td>\n",
       "      <td>1294.500000</td>\n",
       "      <td>62248.500000</td>\n",
       "    </tr>\n",
       "    <tr>\n",
       "      <th>max</th>\n",
       "      <td>2.500010e+05</td>\n",
       "      <td>99800.00000</td>\n",
       "      <td>36255.000000</td>\n",
       "      <td>63213.000000</td>\n",
       "      <td>18106.000000</td>\n",
       "      <td>8.220000e+01</td>\n",
       "      <td>48805.000000</td>\n",
       "      <td>61814.000000</td>\n",
       "      <td>11682.000000</td>\n",
       "      <td>96161.000000</td>\n",
       "    </tr>\n",
       "  </tbody>\n",
       "</table>\n",
       "</div>"
      ],
      "text/plain": [
       "       median_household_income   population  household_cnt  education_total  \\\n",
       "count             8.030000e+02    803.00000     803.000000       803.000000   \n",
       "mean             -2.482294e+07  22442.67995    8900.798257     15586.884184   \n",
       "std               1.265234e+08  15956.03988    6241.768935     10840.566256   \n",
       "min              -6.666667e+08      0.00000       0.000000         0.000000   \n",
       "25%               5.891150e+04   9690.50000    3876.500000      6929.500000   \n",
       "50%               8.051900e+04  19863.00000    7957.000000     13967.000000   \n",
       "75%               1.034425e+05  32344.00000   12898.000000     22168.500000   \n",
       "max               2.500010e+05  99800.00000   36255.000000     63213.000000   \n",
       "\n",
       "       bachelors_degree    median_age  population_hispanic_latino  \\\n",
       "count        803.000000  8.030000e+02                  803.000000   \n",
       "mean        3622.198007 -9.132380e+06                 3080.188045   \n",
       "std         2972.701775  7.753945e+07                 4983.997146   \n",
       "min            0.000000 -6.666667e+08                    0.000000   \n",
       "25%         1330.500000  3.645000e+01                  414.500000   \n",
       "50%         3038.000000  4.000000e+01                 1292.000000   \n",
       "75%         5121.000000  4.420000e+01                 3375.000000   \n",
       "max        18106.000000  8.220000e+01                48805.000000   \n",
       "\n",
       "       population_white  population_asian      zip_code  \n",
       "count        803.000000        803.000000    803.000000  \n",
       "mean       14691.877958       1030.471980  38983.298879  \n",
       "std        11392.918007       1495.792344  24856.106015  \n",
       "min            0.000000          0.000000   7836.000000  \n",
       "25%         5688.500000        161.000000  19086.500000  \n",
       "50%        13006.000000        519.000000  33711.000000  \n",
       "75%        21210.500000       1294.500000  62248.500000  \n",
       "max        61814.000000      11682.000000  96161.000000  "
      ]
     },
     "execution_count": 57,
     "metadata": {},
     "output_type": "execute_result"
    }
   ],
   "source": [
    "demographics.describe()"
   ]
  },
  {
   "cell_type": "code",
   "execution_count": 58,
   "id": "97cd4683",
   "metadata": {},
   "outputs": [],
   "source": [
    "# Drop entries with zero population or negative median_household_income\n",
    "\n",
    "demographics = demographics[(demographics.population>0) \n",
    "                            & (demographics.median_household_income>0)\n",
    "                            & (demographics.bachelors_degree>0)]"
   ]
  },
  {
   "cell_type": "code",
   "execution_count": 59,
   "id": "07f6816c",
   "metadata": {},
   "outputs": [
    {
     "data": {
      "text/plain": [
       "0.05     2400.85\n",
       "0.10     5159.70\n",
       "0.20     9078.60\n",
       "0.50    20395.50\n",
       "0.80    35551.80\n",
       "0.90    44811.20\n",
       "0.95    53208.35\n",
       "Name: population, dtype: float64"
      ]
     },
     "execution_count": 59,
     "metadata": {},
     "output_type": "execute_result"
    }
   ],
   "source": [
    "demographics.population.quantile([0.05,0.1,0.2,0.5,0.8,0.9,0.95])"
   ]
  },
  {
   "cell_type": "markdown",
   "id": "cdd55ac2",
   "metadata": {},
   "source": [
    "### 3.2.2. Normalize data"
   ]
  },
  {
   "cell_type": "code",
   "execution_count": 60,
   "id": "01dfb837",
   "metadata": {},
   "outputs": [],
   "source": [
    "# Create new feature to normalize data\n",
    "\n",
    "demographics['bachelors_pcnt'] = round(demographics['bachelors_degree'] / demographics['education_total'],4)\n",
    "demographics['education_pcnt'] = round(demographics['education_total'] / demographics['population'],4)"
   ]
  },
  {
   "cell_type": "code",
   "execution_count": 61,
   "id": "431de0f7",
   "metadata": {},
   "outputs": [],
   "source": [
    "demographics.drop(columns=['bachelors_degree','education_total'], inplace=True)"
   ]
  },
  {
   "cell_type": "code",
   "execution_count": 62,
   "id": "457df662",
   "metadata": {},
   "outputs": [
    {
     "data": {
      "text/html": [
       "<div>\n",
       "<style scoped>\n",
       "    .dataframe tbody tr th:only-of-type {\n",
       "        vertical-align: middle;\n",
       "    }\n",
       "\n",
       "    .dataframe tbody tr th {\n",
       "        vertical-align: top;\n",
       "    }\n",
       "\n",
       "    .dataframe thead th {\n",
       "        text-align: right;\n",
       "    }\n",
       "</style>\n",
       "<table border=\"1\" class=\"dataframe\">\n",
       "  <thead>\n",
       "    <tr style=\"text-align: right;\">\n",
       "      <th></th>\n",
       "      <th>median_household_income</th>\n",
       "      <th>population</th>\n",
       "      <th>household_cnt</th>\n",
       "      <th>median_age</th>\n",
       "      <th>population_hispanic_latino</th>\n",
       "      <th>population_white</th>\n",
       "      <th>population_asian</th>\n",
       "      <th>zip_code</th>\n",
       "      <th>bachelors_pcnt</th>\n",
       "      <th>education_pcnt</th>\n",
       "    </tr>\n",
       "  </thead>\n",
       "  <tbody>\n",
       "    <tr>\n",
       "      <th>count</th>\n",
       "      <td>772.000000</td>\n",
       "      <td>772.000000</td>\n",
       "      <td>772.000000</td>\n",
       "      <td>772.000000</td>\n",
       "      <td>772.000000</td>\n",
       "      <td>772.000000</td>\n",
       "      <td>772.000000</td>\n",
       "      <td>772.000000</td>\n",
       "      <td>772.000000</td>\n",
       "      <td>772.000000</td>\n",
       "    </tr>\n",
       "    <tr>\n",
       "      <th>mean</th>\n",
       "      <td>86699.330311</td>\n",
       "      <td>23305.682642</td>\n",
       "      <td>9255.911917</td>\n",
       "      <td>40.815674</td>\n",
       "      <td>3198.781088</td>\n",
       "      <td>15257.651554</td>\n",
       "      <td>1067.908031</td>\n",
       "      <td>38777.182642</td>\n",
       "      <td>0.232036</td>\n",
       "      <td>0.707181</td>\n",
       "    </tr>\n",
       "    <tr>\n",
       "      <th>std</th>\n",
       "      <td>36459.743499</td>\n",
       "      <td>15664.225570</td>\n",
       "      <td>6103.676566</td>\n",
       "      <td>6.949441</td>\n",
       "      <td>5046.893928</td>\n",
       "      <td>11253.757353</td>\n",
       "      <td>1512.124226</td>\n",
       "      <td>24691.447089</td>\n",
       "      <td>0.093243</td>\n",
       "      <td>0.066577</td>\n",
       "    </tr>\n",
       "    <tr>\n",
       "      <th>min</th>\n",
       "      <td>16916.000000</td>\n",
       "      <td>67.000000</td>\n",
       "      <td>33.000000</td>\n",
       "      <td>20.600000</td>\n",
       "      <td>0.000000</td>\n",
       "      <td>67.000000</td>\n",
       "      <td>0.000000</td>\n",
       "      <td>7836.000000</td>\n",
       "      <td>0.018800</td>\n",
       "      <td>0.358000</td>\n",
       "    </tr>\n",
       "    <tr>\n",
       "      <th>25%</th>\n",
       "      <td>61262.500000</td>\n",
       "      <td>10989.250000</td>\n",
       "      <td>4313.750000</td>\n",
       "      <td>36.700000</td>\n",
       "      <td>490.750000</td>\n",
       "      <td>6607.750000</td>\n",
       "      <td>189.000000</td>\n",
       "      <td>19080.500000</td>\n",
       "      <td>0.160200</td>\n",
       "      <td>0.671775</td>\n",
       "    </tr>\n",
       "    <tr>\n",
       "      <th>50%</th>\n",
       "      <td>82546.000000</td>\n",
       "      <td>20395.500000</td>\n",
       "      <td>8287.500000</td>\n",
       "      <td>40.050000</td>\n",
       "      <td>1359.000000</td>\n",
       "      <td>13548.000000</td>\n",
       "      <td>566.000000</td>\n",
       "      <td>33711.500000</td>\n",
       "      <td>0.229850</td>\n",
       "      <td>0.705650</td>\n",
       "    </tr>\n",
       "    <tr>\n",
       "      <th>75%</th>\n",
       "      <td>104888.000000</td>\n",
       "      <td>32682.250000</td>\n",
       "      <td>13068.250000</td>\n",
       "      <td>44.200000</td>\n",
       "      <td>3515.000000</td>\n",
       "      <td>21681.000000</td>\n",
       "      <td>1354.000000</td>\n",
       "      <td>62236.750000</td>\n",
       "      <td>0.297225</td>\n",
       "      <td>0.739500</td>\n",
       "    </tr>\n",
       "    <tr>\n",
       "      <th>max</th>\n",
       "      <td>250001.000000</td>\n",
       "      <td>99800.000000</td>\n",
       "      <td>36255.000000</td>\n",
       "      <td>82.200000</td>\n",
       "      <td>48805.000000</td>\n",
       "      <td>61814.000000</td>\n",
       "      <td>11682.000000</td>\n",
       "      <td>96161.000000</td>\n",
       "      <td>0.608800</td>\n",
       "      <td>1.000000</td>\n",
       "    </tr>\n",
       "  </tbody>\n",
       "</table>\n",
       "</div>"
      ],
      "text/plain": [
       "       median_household_income    population  household_cnt  median_age  \\\n",
       "count               772.000000    772.000000     772.000000  772.000000   \n",
       "mean              86699.330311  23305.682642    9255.911917   40.815674   \n",
       "std               36459.743499  15664.225570    6103.676566    6.949441   \n",
       "min               16916.000000     67.000000      33.000000   20.600000   \n",
       "25%               61262.500000  10989.250000    4313.750000   36.700000   \n",
       "50%               82546.000000  20395.500000    8287.500000   40.050000   \n",
       "75%              104888.000000  32682.250000   13068.250000   44.200000   \n",
       "max              250001.000000  99800.000000   36255.000000   82.200000   \n",
       "\n",
       "       population_hispanic_latino  population_white  population_asian  \\\n",
       "count                  772.000000        772.000000        772.000000   \n",
       "mean                  3198.781088      15257.651554       1067.908031   \n",
       "std                   5046.893928      11253.757353       1512.124226   \n",
       "min                      0.000000         67.000000          0.000000   \n",
       "25%                    490.750000       6607.750000        189.000000   \n",
       "50%                   1359.000000      13548.000000        566.000000   \n",
       "75%                   3515.000000      21681.000000       1354.000000   \n",
       "max                  48805.000000      61814.000000      11682.000000   \n",
       "\n",
       "           zip_code  bachelors_pcnt  education_pcnt  \n",
       "count    772.000000      772.000000      772.000000  \n",
       "mean   38777.182642        0.232036        0.707181  \n",
       "std    24691.447089        0.093243        0.066577  \n",
       "min     7836.000000        0.018800        0.358000  \n",
       "25%    19080.500000        0.160200        0.671775  \n",
       "50%    33711.500000        0.229850        0.705650  \n",
       "75%    62236.750000        0.297225        0.739500  \n",
       "max    96161.000000        0.608800        1.000000  "
      ]
     },
     "execution_count": 62,
     "metadata": {},
     "output_type": "execute_result"
    }
   ],
   "source": [
    "demographics.describe()"
   ]
  },
  {
   "cell_type": "markdown",
   "id": "4c6f92fa",
   "metadata": {},
   "source": [
    "### 3.2.3. Merge data"
   ]
  },
  {
   "cell_type": "code",
   "execution_count": 63,
   "id": "2f599119",
   "metadata": {},
   "outputs": [],
   "source": [
    "# Inner join restaurant with demographics tables\n",
    "\n",
    "master1 = restaurant.rename(columns={'postal_code':'zip_code'}).merge(demographics, how='inner', on='zip_code')"
   ]
  },
  {
   "cell_type": "code",
   "execution_count": 64,
   "id": "7c79d429",
   "metadata": {},
   "outputs": [
    {
     "name": "stdout",
     "output_type": "stream",
     "text": [
      "(49369, 37)\n",
      "(772, 10)\n",
      "49369\n",
      "772\n"
     ]
    }
   ],
   "source": [
    "print(master1.shape)\n",
    "print(demographics.shape)\n",
    "print(master1.business_id.nunique())\n",
    "print(master1.zip_code.nunique())"
   ]
  },
  {
   "cell_type": "code",
   "execution_count": 65,
   "id": "4e704db8",
   "metadata": {},
   "outputs": [],
   "source": [
    "restaurant_count_byZipCode = (master1.groupby('zip_code').business_id.count().reset_index()\n",
    "                              .rename(columns={'business_id':'restaurant_count'}))"
   ]
  },
  {
   "cell_type": "code",
   "execution_count": 66,
   "id": "59ac577c",
   "metadata": {},
   "outputs": [
    {
     "data": {
      "text/plain": [
       "(49369, 38)"
      ]
     },
     "execution_count": 66,
     "metadata": {},
     "output_type": "execute_result"
    }
   ],
   "source": [
    "master1 = master1.merge(restaurant_count_byZipCode, how='left', on='zip_code')\n",
    "master1.shape"
   ]
  },
  {
   "cell_type": "markdown",
   "id": "833bcfac",
   "metadata": {},
   "source": [
    "### 3.2.4. Create new features"
   ]
  },
  {
   "cell_type": "code",
   "execution_count": 67,
   "id": "33d06776",
   "metadata": {},
   "outputs": [],
   "source": [
    "master1['population_perRestaurant'] = round(master1['population'] / master1['restaurant_count'])\n",
    "master1['household_perRestaurant'] = round(master1['household_cnt'] / master1['restaurant_count'])"
   ]
  },
  {
   "cell_type": "code",
   "execution_count": 68,
   "id": "abf1e444",
   "metadata": {},
   "outputs": [],
   "source": [
    "master1['hispanic_latino_pcnt'] = round(master1['population_hispanic_latino'] / master1['population'],3)\n",
    "master1['white_pcnt'] = round(master1['population_white'] / master1['population'],3)\n",
    "master1['asian_pcnt'] = round(master1['population_asian'] / master1['population'],3)"
   ]
  },
  {
   "cell_type": "code",
   "execution_count": 69,
   "id": "cd60d7c1",
   "metadata": {},
   "outputs": [],
   "source": [
    "# Store temp master file\n",
    "\n",
    "master1.to_csv('data/master1.csv',index=False)"
   ]
  },
  {
   "cell_type": "markdown",
   "id": "9bc92b57",
   "metadata": {},
   "source": [
    "<br>\n",
    "\n",
    "## 3.3. Join Table Review & Create New Features"
   ]
  },
  {
   "cell_type": "code",
   "execution_count": 70,
   "id": "e73c4594",
   "metadata": {},
   "outputs": [],
   "source": [
    "review = pd.read_csv('data/review_sentiment.csv')"
   ]
  },
  {
   "cell_type": "markdown",
   "id": "98078f5f",
   "metadata": {},
   "source": [
    "### 3.3.1. Subset data"
   ]
  },
  {
   "cell_type": "code",
   "execution_count": 71,
   "id": "5f2e28c0",
   "metadata": {},
   "outputs": [],
   "source": [
    "# Subset data according to master1\n",
    "review = review[review.business_id.isin(master1.business_id.unique())]"
   ]
  },
  {
   "cell_type": "markdown",
   "id": "4bb74663",
   "metadata": {},
   "source": [
    "### 3.3.2. Aggregate data"
   ]
  },
  {
   "cell_type": "code",
   "execution_count": 72,
   "id": "08536a6d",
   "metadata": {},
   "outputs": [
    {
     "data": {
      "text/plain": [
       "(49369, 6)"
      ]
     },
     "execution_count": 72,
     "metadata": {},
     "output_type": "execute_result"
    }
   ],
   "source": [
    "# Aggregate data to business_id level\n",
    "review_agg = review.groupby('business_id').aggregate({'stars':np.mean,'useful':np.sum,'funny':np.sum,\n",
    "                                         'cool':np.sum,'review_sentiment_score':np.mean}\n",
    "                                       ).rename(columns={'stars':'avg_stars', 'useful':'useful_review_count',\n",
    "                                                        'funny':'funny_review_count','cool':'cool_review_count'}\n",
    "                                               ).reset_index()\n",
    "\n",
    "review_agg.shape"
   ]
  },
  {
   "cell_type": "code",
   "execution_count": 73,
   "id": "10485cae",
   "metadata": {},
   "outputs": [
    {
     "data": {
      "text/plain": [
       "49369"
      ]
     },
     "execution_count": 73,
     "metadata": {},
     "output_type": "execute_result"
    }
   ],
   "source": [
    "review_agg.business_id.nunique()"
   ]
  },
  {
   "cell_type": "markdown",
   "id": "e38a6be3",
   "metadata": {},
   "source": [
    "### 3.3.3. Merge data"
   ]
  },
  {
   "cell_type": "code",
   "execution_count": 74,
   "id": "01c3d14a",
   "metadata": {},
   "outputs": [],
   "source": [
    "# Master file with info from review table\n",
    "master2 = master1.merge(review_agg.drop(columns='avg_stars'), how='left',on='business_id')"
   ]
  },
  {
   "cell_type": "code",
   "execution_count": 75,
   "id": "662e39bc",
   "metadata": {},
   "outputs": [
    {
     "data": {
      "text/plain": [
       "(49369, 47)"
      ]
     },
     "execution_count": 75,
     "metadata": {},
     "output_type": "execute_result"
    }
   ],
   "source": [
    "master2.shape"
   ]
  },
  {
   "cell_type": "code",
   "execution_count": 76,
   "id": "10895f50",
   "metadata": {},
   "outputs": [],
   "source": [
    "# Store temp master file\n",
    "master2.to_csv('data/master2.csv',index=False)"
   ]
  },
  {
   "cell_type": "markdown",
   "id": "d60dc6bc",
   "metadata": {},
   "source": [
    "<br>\n",
    "\n",
    "## 3.4. Join Table Tip & Create New Features"
   ]
  },
  {
   "cell_type": "code",
   "execution_count": 77,
   "id": "9eb3d57a",
   "metadata": {},
   "outputs": [],
   "source": [
    "tip = pd.read_csv('data/tip_sentiment.csv')"
   ]
  },
  {
   "cell_type": "markdown",
   "id": "acc101e1",
   "metadata": {},
   "source": [
    "### 3.4.1. Subset data"
   ]
  },
  {
   "cell_type": "code",
   "execution_count": 78,
   "id": "8ef64812",
   "metadata": {},
   "outputs": [],
   "source": [
    "# Subset data according to master1\n",
    "tip = tip[tip.business_id.isin(master1.business_id.unique())]"
   ]
  },
  {
   "cell_type": "code",
   "execution_count": 79,
   "id": "88ec5f84",
   "metadata": {},
   "outputs": [
    {
     "data": {
      "text/plain": [
       "user_id                0\n",
       "business_id            0\n",
       "text                   0\n",
       "compliment_count       0\n",
       "tip_sentiment_score    0\n",
       "dtype: int64"
      ]
     },
     "execution_count": 79,
     "metadata": {},
     "output_type": "execute_result"
    }
   ],
   "source": [
    "tip.isna().sum()"
   ]
  },
  {
   "cell_type": "markdown",
   "id": "42255263",
   "metadata": {},
   "source": [
    "### 3.4.2. Aggregate data"
   ]
  },
  {
   "cell_type": "code",
   "execution_count": 80,
   "id": "46a9c03b",
   "metadata": {},
   "outputs": [
    {
     "data": {
      "text/plain": [
       "(44411, 4)"
      ]
     },
     "execution_count": 80,
     "metadata": {},
     "output_type": "execute_result"
    }
   ],
   "source": [
    "tip_agg = tip.groupby('business_id').aggregate({'compliment_count':np.mean,\n",
    "                                                'tip_sentiment_score':np.mean,\n",
    "                                                'user_id':np.count_nonzero}\n",
    "                                       ).rename(columns={'compliment_count':'avg_tip_compliment',\n",
    "                                                         'user_id':'tip_count'}\n",
    "                                               ).reset_index()\n",
    "\n",
    "tip_agg.shape"
   ]
  },
  {
   "cell_type": "code",
   "execution_count": 81,
   "id": "dd4eda62",
   "metadata": {},
   "outputs": [
    {
     "data": {
      "text/plain": [
       "44411"
      ]
     },
     "execution_count": 81,
     "metadata": {},
     "output_type": "execute_result"
    }
   ],
   "source": [
    "tip.business_id.nunique()"
   ]
  },
  {
   "cell_type": "code",
   "execution_count": 82,
   "id": "08229f56",
   "metadata": {},
   "outputs": [
    {
     "data": {
      "text/plain": [
       "(49369, 47)"
      ]
     },
     "execution_count": 82,
     "metadata": {},
     "output_type": "execute_result"
    }
   ],
   "source": [
    "master2.shape"
   ]
  },
  {
   "cell_type": "code",
   "execution_count": 83,
   "id": "bc3bf7f9",
   "metadata": {},
   "outputs": [
    {
     "data": {
      "text/html": [
       "<div>\n",
       "<style scoped>\n",
       "    .dataframe tbody tr th:only-of-type {\n",
       "        vertical-align: middle;\n",
       "    }\n",
       "\n",
       "    .dataframe tbody tr th {\n",
       "        vertical-align: top;\n",
       "    }\n",
       "\n",
       "    .dataframe thead th {\n",
       "        text-align: right;\n",
       "    }\n",
       "</style>\n",
       "<table border=\"1\" class=\"dataframe\">\n",
       "  <thead>\n",
       "    <tr style=\"text-align: right;\">\n",
       "      <th></th>\n",
       "      <th>business_id</th>\n",
       "      <th>avg_tip_compliment</th>\n",
       "      <th>tip_sentiment_score</th>\n",
       "      <th>tip_count</th>\n",
       "    </tr>\n",
       "  </thead>\n",
       "  <tbody>\n",
       "    <tr>\n",
       "      <th>0</th>\n",
       "      <td>---kPU91CF4Lq2-WlRu9Lw</td>\n",
       "      <td>0.0</td>\n",
       "      <td>1.000000</td>\n",
       "      <td>4</td>\n",
       "    </tr>\n",
       "    <tr>\n",
       "      <th>1</th>\n",
       "      <td>--0iUa4sNDFiZFrAdIWhZQ</td>\n",
       "      <td>0.0</td>\n",
       "      <td>0.500000</td>\n",
       "      <td>6</td>\n",
       "    </tr>\n",
       "    <tr>\n",
       "      <th>2</th>\n",
       "      <td>--8IbOsAAxjKRoYsBFL-PA</td>\n",
       "      <td>0.0</td>\n",
       "      <td>0.750000</td>\n",
       "      <td>4</td>\n",
       "    </tr>\n",
       "    <tr>\n",
       "      <th>3</th>\n",
       "      <td>--ZVrH2X2QXBFdCilbirsw</td>\n",
       "      <td>0.0</td>\n",
       "      <td>0.750000</td>\n",
       "      <td>8</td>\n",
       "    </tr>\n",
       "    <tr>\n",
       "      <th>4</th>\n",
       "      <td>--epgcb7xHGuJ-4PUeSLAw</td>\n",
       "      <td>0.0</td>\n",
       "      <td>0.666667</td>\n",
       "      <td>6</td>\n",
       "    </tr>\n",
       "  </tbody>\n",
       "</table>\n",
       "</div>"
      ],
      "text/plain": [
       "              business_id  avg_tip_compliment  tip_sentiment_score  tip_count\n",
       "0  ---kPU91CF4Lq2-WlRu9Lw                 0.0             1.000000          4\n",
       "1  --0iUa4sNDFiZFrAdIWhZQ                 0.0             0.500000          6\n",
       "2  --8IbOsAAxjKRoYsBFL-PA                 0.0             0.750000          4\n",
       "3  --ZVrH2X2QXBFdCilbirsw                 0.0             0.750000          8\n",
       "4  --epgcb7xHGuJ-4PUeSLAw                 0.0             0.666667          6"
      ]
     },
     "execution_count": 83,
     "metadata": {},
     "output_type": "execute_result"
    }
   ],
   "source": [
    "tip_agg.head()"
   ]
  },
  {
   "cell_type": "markdown",
   "id": "a4bdabee",
   "metadata": {},
   "source": [
    "### 3.4.3. Merge data"
   ]
  },
  {
   "cell_type": "code",
   "execution_count": 84,
   "id": "9aa8b997",
   "metadata": {},
   "outputs": [],
   "source": [
    "# Master file with info from tip table\n",
    "master3 = master2.merge(tip_agg, how='left', on='business_id')"
   ]
  },
  {
   "cell_type": "code",
   "execution_count": 85,
   "id": "8008f3e3",
   "metadata": {},
   "outputs": [
    {
     "data": {
      "text/plain": [
       "(49369, 50)"
      ]
     },
     "execution_count": 85,
     "metadata": {},
     "output_type": "execute_result"
    }
   ],
   "source": [
    "master3.shape"
   ]
  },
  {
   "cell_type": "code",
   "execution_count": 86,
   "id": "4a33abc6",
   "metadata": {},
   "outputs": [
    {
     "data": {
      "text/plain": [
       "avg_tip_compliment     4958\n",
       "tip_sentiment_score    4958\n",
       "tip_count              4958\n",
       "dtype: int64"
      ]
     },
     "execution_count": 86,
     "metadata": {},
     "output_type": "execute_result"
    }
   ],
   "source": [
    "s = master3.isna().sum()\n",
    "s[s>0]"
   ]
  },
  {
   "cell_type": "code",
   "execution_count": 87,
   "id": "c1b3aa12",
   "metadata": {},
   "outputs": [],
   "source": [
    "master3['has_tip'] = np.where(master3.avg_tip_compliment.isna(),0,1)"
   ]
  },
  {
   "cell_type": "code",
   "execution_count": 88,
   "id": "c136e8bb",
   "metadata": {},
   "outputs": [],
   "source": [
    "# Convert missing value to zero\n",
    "master3.avg_tip_compliment = np.where(master3.avg_tip_compliment.isna(),0,master3.avg_tip_compliment)\n",
    "master3.tip_sentiment_score = np.where(master3.tip_sentiment_score.isna(),0,master3.tip_sentiment_score)\n",
    "master3.tip_count = np.where(master3.tip_count.isna(),0,master3.tip_count)"
   ]
  },
  {
   "cell_type": "code",
   "execution_count": 89,
   "id": "766c00a8",
   "metadata": {},
   "outputs": [
    {
     "data": {
      "text/plain": [
       "0"
      ]
     },
     "execution_count": 89,
     "metadata": {},
     "output_type": "execute_result"
    }
   ],
   "source": [
    "master3.isna().sum().sum()"
   ]
  },
  {
   "cell_type": "code",
   "execution_count": 90,
   "id": "3ce59ed9",
   "metadata": {},
   "outputs": [],
   "source": [
    "# Store temp master file\n",
    "master3.to_csv('data/master3.csv',index=False)"
   ]
  },
  {
   "cell_type": "markdown",
   "id": "62a01dba",
   "metadata": {},
   "source": [
    "<br>\n",
    "\n",
    "## 3.5. Further Subset Data to Focus on 4 Cuisines & Create Features"
   ]
  },
  {
   "cell_type": "markdown",
   "id": "bf493a54",
   "metadata": {},
   "source": [
    "### 3.5.1. Extract cuisine info & check for MECE"
   ]
  },
  {
   "cell_type": "code",
   "execution_count": 91,
   "id": "a2dd6a25",
   "metadata": {},
   "outputs": [],
   "source": [
    "master3['Chinese'] = np.where(master3.categories.str.lower().str.contains('chinese')\n",
    "                 & ~(master3.categories.str.lower().str.contains('fusion')), 1, 0)\n",
    "\n",
    "master3['Japanese'] = np.where(master3.categories.str.lower().str.contains('japanese')\n",
    "                 & ~(master3.categories.str.lower().str.contains('fusion')), 1, 0)\n",
    "\n",
    "master3['Italian'] = np.where(master3.categories.str.lower().str.contains('italian')\n",
    "                 & ~(master3.categories.str.lower().str.contains('fusion')), 1, 0)\n",
    "\n",
    "master3['Mexican'] = np.where(master3.categories.str.lower().str.contains('mexican')\n",
    "                 & ~(master3.categories.str.lower().str.contains('fusion')), 1, 0)\n",
    "\n",
    "master3['MECE_check'] = master3['Chinese'] + master3['Japanese'] + master3['Italian'] + master3['Mexican']"
   ]
  },
  {
   "cell_type": "code",
   "execution_count": 92,
   "id": "6b3f9410",
   "metadata": {},
   "outputs": [
    {
     "name": "stdout",
     "output_type": "stream",
     "text": [
      "(12005, 56)\n"
     ]
    }
   ],
   "source": [
    "master4 = master3[master3.MECE_check ==1].copy()\n",
    "print(master4.shape)"
   ]
  },
  {
   "cell_type": "code",
   "execution_count": 93,
   "id": "be83dc56",
   "metadata": {},
   "outputs": [
    {
     "data": {
      "text/plain": [
       "Mexican     4427\n",
       "Italian     4261\n",
       "Chinese     2262\n",
       "Japanese    1055\n",
       "Name: cuisine, dtype: int64"
      ]
     },
     "execution_count": 93,
     "metadata": {},
     "output_type": "execute_result"
    }
   ],
   "source": [
    "master4['cuisine'] = np.where(master4.Chinese, 'Chinese',\n",
    "                              np.where(master4.Japanese, 'Japanese',\n",
    "                                      np.where(master4.Italian, 'Italian',\n",
    "                                              'Mexican')))\n",
    "master4['cuisine'].value_counts()"
   ]
  },
  {
   "cell_type": "code",
   "execution_count": 94,
   "id": "13cdf8a9",
   "metadata": {},
   "outputs": [
    {
     "data": {
      "text/plain": [
       "cuisine\n",
       "Chinese     3.343501\n",
       "Italian     3.505867\n",
       "Japanese    3.761137\n",
       "Mexican     3.511181\n",
       "Name: stars, dtype: float64"
      ]
     },
     "execution_count": 94,
     "metadata": {},
     "output_type": "execute_result"
    }
   ],
   "source": [
    "master4.groupby('cuisine').stars.mean()"
   ]
  },
  {
   "cell_type": "markdown",
   "id": "7f6d8710",
   "metadata": {},
   "source": [
    "### 3.5.2. Quicly check differences in cuisines"
   ]
  },
  {
   "cell_type": "code",
   "execution_count": 95,
   "id": "4c95349c",
   "metadata": {},
   "outputs": [
    {
     "data": {
      "text/plain": [
       "plant_based\n",
       "0    3.493134\n",
       "1    3.871981\n",
       "Name: stars, dtype: float64"
      ]
     },
     "execution_count": 95,
     "metadata": {},
     "output_type": "execute_result"
    }
   ],
   "source": [
    "master4['plant_based'] = np.where(master4.categories.str.lower().str.contains('vegan|vegetarian'), \n",
    "                                 1, 0)\n",
    "\n",
    "master4.groupby('plant_based').stars.mean()"
   ]
  },
  {
   "cell_type": "code",
   "execution_count": 96,
   "id": "9fed0c2d",
   "metadata": {},
   "outputs": [
    {
     "data": {
      "text/plain": [
       "cuisine\n",
       "Chinese     0.011936\n",
       "Italian     0.013377\n",
       "Japanese    0.013270\n",
       "Mexican     0.024622\n",
       "Name: plant_based, dtype: float64"
      ]
     },
     "execution_count": 96,
     "metadata": {},
     "output_type": "execute_result"
    }
   ],
   "source": [
    "master4.groupby('cuisine').plant_based.mean()"
   ]
  },
  {
   "cell_type": "code",
   "execution_count": 97,
   "id": "c945c9d3",
   "metadata": {},
   "outputs": [
    {
     "data": {
      "text/plain": [
       "seafood\n",
       "0    3.486141\n",
       "1    3.702937\n",
       "Name: stars, dtype: float64"
      ]
     },
     "execution_count": 97,
     "metadata": {},
     "output_type": "execute_result"
    }
   ],
   "source": [
    "master4['seafood'] = np.where(master4.categories.str.lower().str.contains('seafood'), \n",
    "                                 1, 0)\n",
    "\n",
    "master4.groupby('seafood').stars.mean()"
   ]
  },
  {
   "cell_type": "code",
   "execution_count": 98,
   "id": "ad2aba78",
   "metadata": {},
   "outputs": [
    {
     "data": {
      "text/plain": [
       "cuisine\n",
       "Chinese     0.076923\n",
       "Italian     0.068059\n",
       "Japanese    0.054028\n",
       "Mexican     0.051502\n",
       "Name: seafood, dtype: float64"
      ]
     },
     "execution_count": 98,
     "metadata": {},
     "output_type": "execute_result"
    }
   ],
   "source": [
    "master4.groupby('cuisine').seafood.mean()"
   ]
  },
  {
   "cell_type": "code",
   "execution_count": 99,
   "id": "b01e205d",
   "metadata": {},
   "outputs": [
    {
     "data": {
      "text/plain": [
       "gluten_free\n",
       "0    3.496125\n",
       "1    3.815789\n",
       "Name: stars, dtype: float64"
      ]
     },
     "execution_count": 99,
     "metadata": {},
     "output_type": "execute_result"
    }
   ],
   "source": [
    "master4['gluten_free'] = np.where(master4.categories.str.lower().str.contains('gluten-free'), \n",
    "                                 1, 0)\n",
    "\n",
    "master4.groupby('gluten_free').stars.mean()"
   ]
  },
  {
   "cell_type": "code",
   "execution_count": 100,
   "id": "70216411",
   "metadata": {},
   "outputs": [
    {
     "data": {
      "text/plain": [
       "cuisine\n",
       "Chinese     0.001768\n",
       "Italian     0.024173\n",
       "Japanese    0.004739\n",
       "Mexican     0.004744\n",
       "Name: gluten_free, dtype: float64"
      ]
     },
     "execution_count": 100,
     "metadata": {},
     "output_type": "execute_result"
    }
   ],
   "source": [
    "master4.groupby('cuisine').gluten_free.mean()"
   ]
  },
  {
   "cell_type": "code",
   "execution_count": 101,
   "id": "79de126f",
   "metadata": {},
   "outputs": [
    {
     "data": {
      "text/plain": [
       "fast_food\n",
       "0    3.614092\n",
       "1    2.500000\n",
       "Name: stars, dtype: float64"
      ]
     },
     "execution_count": 101,
     "metadata": {},
     "output_type": "execute_result"
    }
   ],
   "source": [
    "master4['fast_food'] = np.where(master4.categories.str.lower().str.contains('fast food'), \n",
    "                                 1, 0)\n",
    "\n",
    "master4.groupby('fast_food').stars.mean()"
   ]
  },
  {
   "cell_type": "code",
   "execution_count": 102,
   "id": "c8d27981",
   "metadata": {},
   "outputs": [
    {
     "data": {
      "text/plain": [
       "cuisine\n",
       "Chinese     0.062334\n",
       "Italian     0.056794\n",
       "Japanese    0.010427\n",
       "Mexican     0.189519\n",
       "Name: fast_food, dtype: float64"
      ]
     },
     "execution_count": 102,
     "metadata": {},
     "output_type": "execute_result"
    }
   ],
   "source": [
    "master4.groupby('cuisine').fast_food.mean()"
   ]
  },
  {
   "cell_type": "code",
   "execution_count": 103,
   "id": "fb249b33",
   "metadata": {},
   "outputs": [
    {
     "data": {
      "text/plain": [
       "breakfast\n",
       "0    3.531828\n",
       "1    3.086505\n",
       "Name: stars, dtype: float64"
      ]
     },
     "execution_count": 103,
     "metadata": {},
     "output_type": "execute_result"
    }
   ],
   "source": [
    "master4['breakfast'] = np.where(master4.categories.str.lower().str.contains('breakfast'), \n",
    "                                 1, 0)\n",
    "\n",
    "master4.groupby('breakfast').stars.mean()"
   ]
  },
  {
   "cell_type": "code",
   "execution_count": 104,
   "id": "3d4a4e17",
   "metadata": {},
   "outputs": [
    {
     "data": {
      "text/plain": [
       "cuisine\n",
       "Chinese     0.005747\n",
       "Italian     0.042713\n",
       "Japanese    0.004739\n",
       "Mexican     0.150666\n",
       "Name: breakfast, dtype: float64"
      ]
     },
     "execution_count": 104,
     "metadata": {},
     "output_type": "execute_result"
    }
   ],
   "source": [
    "master4.groupby('cuisine').breakfast.mean()"
   ]
  },
  {
   "cell_type": "code",
   "execution_count": 105,
   "id": "c36aaec7",
   "metadata": {},
   "outputs": [
    {
     "data": {
      "text/plain": [
       "nightlife\n",
       "0    3.476459\n",
       "1    3.680718\n",
       "Name: stars, dtype: float64"
      ]
     },
     "execution_count": 105,
     "metadata": {},
     "output_type": "execute_result"
    }
   ],
   "source": [
    "master4['nightlife'] = np.where(master4.categories.str.lower().str.contains('nightlife'), \n",
    "                                 1, 0)\n",
    "\n",
    "master4.groupby('nightlife').stars.mean()"
   ]
  },
  {
   "cell_type": "code",
   "execution_count": 106,
   "id": "d197e3f5",
   "metadata": {},
   "outputs": [
    {
     "data": {
      "text/plain": [
       "cuisine\n",
       "Chinese     0.014589\n",
       "Italian     0.152312\n",
       "Japanese    0.076777\n",
       "Mexican     0.135758\n",
       "Name: nightlife, dtype: float64"
      ]
     },
     "execution_count": 106,
     "metadata": {},
     "output_type": "execute_result"
    }
   ],
   "source": [
    "master4.groupby('cuisine').nightlife.mean()"
   ]
  },
  {
   "cell_type": "markdown",
   "id": "a5ab11f1",
   "metadata": {},
   "source": [
    "### 3.5.3. Create a new feature for restaurant category count"
   ]
  },
  {
   "cell_type": "code",
   "execution_count": 107,
   "id": "56185130",
   "metadata": {},
   "outputs": [
    {
     "data": {
      "text/plain": [
       "ctgy_count\n",
       "2     3.488417\n",
       "3     3.456930\n",
       "4     3.552860\n",
       "5     3.433939\n",
       "6     3.280273\n",
       "7     3.664773\n",
       "8     3.857713\n",
       "9     3.780423\n",
       "10    3.796154\n",
       "11    3.871429\n",
       "12    3.938776\n",
       "13    4.108696\n",
       "14    4.142857\n",
       "15    4.000000\n",
       "16    4.062500\n",
       "17    4.166667\n",
       "18    4.250000\n",
       "19    4.000000\n",
       "20    4.000000\n",
       "22    4.000000\n",
       "36    4.500000\n",
       "Name: stars, dtype: float64"
      ]
     },
     "execution_count": 107,
     "metadata": {},
     "output_type": "execute_result"
    }
   ],
   "source": [
    "master4['ctgy_count'] = master4['categories'].str.split(',').apply(lambda x: len(x))\n",
    "\n",
    "master4.groupby('ctgy_count').stars.mean()"
   ]
  },
  {
   "cell_type": "code",
   "execution_count": 108,
   "id": "a7ebeada",
   "metadata": {},
   "outputs": [
    {
     "data": {
      "text/plain": [
       "cuisine\n",
       "Chinese     2.938992\n",
       "Italian     4.701948\n",
       "Japanese    4.017062\n",
       "Mexican     4.232663\n",
       "Name: ctgy_count, dtype: float64"
      ]
     },
     "execution_count": 108,
     "metadata": {},
     "output_type": "execute_result"
    }
   ],
   "source": [
    "master4.groupby('cuisine').ctgy_count.mean()"
   ]
  },
  {
   "cell_type": "markdown",
   "id": "c69714c7",
   "metadata": {},
   "source": [
    "<br>\n",
    "\n",
    "## 3.6. Convert Some Nominal Categorical Variables to Binary Variables"
   ]
  },
  {
   "cell_type": "code",
   "execution_count": 109,
   "id": "c74f31a7",
   "metadata": {},
   "outputs": [
    {
     "data": {
      "text/plain": [
       "NoiseLevel\n",
       "average    3.533355\n",
       "loud       3.189024\n",
       "quiet      3.505183\n",
       "unknown    3.489050\n",
       "Name: stars, dtype: float64"
      ]
     },
     "execution_count": 109,
     "metadata": {},
     "output_type": "execute_result"
    }
   ],
   "source": [
    "master4.groupby('NoiseLevel').stars.mean()"
   ]
  },
  {
   "cell_type": "code",
   "execution_count": 110,
   "id": "86f55d8e",
   "metadata": {},
   "outputs": [
    {
     "data": {
      "text/plain": [
       "average    6026\n",
       "unknown    3379\n",
       "quiet      2026\n",
       "loud        574\n",
       "Name: NoiseLevel, dtype: int64"
      ]
     },
     "execution_count": 110,
     "metadata": {},
     "output_type": "execute_result"
    }
   ],
   "source": [
    "master4.NoiseLevel.value_counts()"
   ]
  },
  {
   "cell_type": "code",
   "execution_count": 111,
   "id": "e20f4302",
   "metadata": {},
   "outputs": [],
   "source": [
    "master4['noise_loud'] = np.where(master4.NoiseLevel=='loud', 1, 0)"
   ]
  },
  {
   "cell_type": "code",
   "execution_count": 112,
   "id": "648c869c",
   "metadata": {},
   "outputs": [
    {
     "data": {
      "text/plain": [
       "RestaurantsPriceRange\n",
       "1     3.273851\n",
       "2     3.590934\n",
       "3     3.707921\n",
       "4     3.454545\n",
       "99    3.785455\n",
       "Name: stars, dtype: float64"
      ]
     },
     "execution_count": 112,
     "metadata": {},
     "output_type": "execute_result"
    }
   ],
   "source": [
    "master4.groupby('RestaurantsPriceRange').stars.mean()"
   ]
  },
  {
   "cell_type": "code",
   "execution_count": 113,
   "id": "53e1cc2e",
   "metadata": {},
   "outputs": [
    {
     "data": {
      "text/plain": [
       "2     5460\n",
       "1     4570\n",
       "99    1650\n",
       "3      303\n",
       "4       22\n",
       "Name: RestaurantsPriceRange, dtype: int64"
      ]
     },
     "execution_count": 113,
     "metadata": {},
     "output_type": "execute_result"
    }
   ],
   "source": [
    "master4.RestaurantsPriceRange.value_counts()"
   ]
  },
  {
   "cell_type": "code",
   "execution_count": 114,
   "id": "ed50a694",
   "metadata": {},
   "outputs": [],
   "source": [
    "master4['expensive'] = np.where(master4.RestaurantsPriceRange.isin([3,4]), 1, 0)"
   ]
  },
  {
   "cell_type": "markdown",
   "id": "460f8ae6",
   "metadata": {},
   "source": [
    "<br>\n",
    "\n",
    "## 3.6. Store data for subsequent use"
   ]
  },
  {
   "cell_type": "code",
   "execution_count": 115,
   "id": "fc833635",
   "metadata": {},
   "outputs": [],
   "source": [
    "# Store temp master file\n",
    "master4.to_csv('data/master4.csv',index=False)"
   ]
  }
 ],
 "metadata": {
  "kernelspec": {
   "display_name": "Python 3 (ipykernel)",
   "language": "python",
   "name": "python3"
  },
  "language_info": {
   "codemirror_mode": {
    "name": "ipython",
    "version": 3
   },
   "file_extension": ".py",
   "mimetype": "text/x-python",
   "name": "python",
   "nbconvert_exporter": "python",
   "pygments_lexer": "ipython3",
   "version": "3.9.18"
  }
 },
 "nbformat": 4,
 "nbformat_minor": 5
}
