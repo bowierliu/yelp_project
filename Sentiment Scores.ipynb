{
 "cells": [
  {
   "cell_type": "markdown",
   "id": "93ca478f",
   "metadata": {},
   "source": [
    "<br>\n",
    "\n",
    "# Milestone1_2. Sentiment Scores\n",
    "\n",
    "Calculent Sentiment Scores by employing sentiment lexicons\n",
    "\n",
    "## Team #30"
   ]
  },
  {
   "cell_type": "code",
   "execution_count": 1,
   "id": "3653d123",
   "metadata": {},
   "outputs": [],
   "source": [
    "# nltk.download('vader_lexicon')"
   ]
  },
  {
   "cell_type": "code",
   "execution_count": 2,
   "id": "dee774a3",
   "metadata": {},
   "outputs": [
    {
     "name": "stdout",
     "output_type": "stream",
     "text": [
      "Intel MKL WARNING: Support of Intel(R) Streaming SIMD Extensions 4.2 (Intel(R) SSE4.2) enabled only processors has been deprecated. Intel oneAPI Math Kernel Library 2025.0 will require Intel(R) Advanced Vector Extensions (Intel(R) AVX) instructions.\n",
      "Intel MKL WARNING: Support of Intel(R) Streaming SIMD Extensions 4.2 (Intel(R) SSE4.2) enabled only processors has been deprecated. Intel oneAPI Math Kernel Library 2025.0 will require Intel(R) Advanced Vector Extensions (Intel(R) AVX) instructions.\n"
     ]
    }
   ],
   "source": [
    "import pandas as pd\n",
    "import numpy as np\n",
    "from nltk.sentiment import SentimentIntensityAnalyzer"
   ]
  },
  {
   "cell_type": "markdown",
   "id": "4edc03c7",
   "metadata": {},
   "source": [
    "<br>\n",
    "\n",
    "## 2.1. Sentiment score function"
   ]
  },
  {
   "cell_type": "code",
   "execution_count": 3,
   "id": "a587ec08",
   "metadata": {},
   "outputs": [],
   "source": [
    "# Define function to calculate overall sentiment score\n",
    "# 1 for positive; -1 for negative; 0 for neutural\n",
    "\n",
    "def overall_sentiment_score(text):\n",
    "    #initialize SentimentIntensityAnalyzer\n",
    "    sia = SentimentIntensityAnalyzer()\n",
    "\n",
    "    #analyze sentiment\n",
    "    try:\n",
    "        sentiment_scores = sia.polarity_scores(text)\n",
    "\n",
    "        if sentiment_scores['compound'] >= 0.05:\n",
    "            sentiment = 1\n",
    "        elif sentiment_scores['compound'] <= -0.05:\n",
    "            sentiment = -1\n",
    "        else:\n",
    "            sentiment = 0\n",
    "\n",
    "        return sentiment\n",
    "    \n",
    "    except:\n",
    "        return np.nan"
   ]
  },
  {
   "cell_type": "code",
   "execution_count": 4,
   "id": "656e402b",
   "metadata": {},
   "outputs": [
    {
     "data": {
      "text/plain": [
       "0"
      ]
     },
     "execution_count": 4,
     "metadata": {},
     "output_type": "execute_result"
    }
   ],
   "source": [
    "# Test function\n",
    "test_text = \"The food was not bad. I really enjoyed the atmosphere.\"\n",
    "overall_sentiment_score(test_text)"
   ]
  },
  {
   "cell_type": "markdown",
   "id": "4211050f",
   "metadata": {},
   "source": [
    "<br>\n",
    "\n",
    "## 2.2. Review sentiment score"
   ]
  },
  {
   "cell_type": "code",
   "execution_count": 5,
   "id": "7b5ee6b9",
   "metadata": {},
   "outputs": [
    {
     "name": "stdout",
     "output_type": "stream",
     "text": [
      "(4655799, 9)\n",
      "review_id       object\n",
      "user_id         object\n",
      "business_id     object\n",
      "stars          float64\n",
      "useful         float64\n",
      "funny          float64\n",
      "cool           float64\n",
      "text            object\n",
      "date            object\n",
      "dtype: object\n"
     ]
    }
   ],
   "source": [
    "# Load and check data shape, data type\n",
    "review = pd.read_csv('data/review.csv', low_memory=False)\n",
    "print(review.shape)\n",
    "print(review.dtypes)"
   ]
  },
  {
   "cell_type": "code",
   "execution_count": 6,
   "id": "451cfb7c",
   "metadata": {},
   "outputs": [
    {
     "data": {
      "text/plain": [
       "review_id      0\n",
       "user_id        1\n",
       "business_id    2\n",
       "stars          2\n",
       "useful         2\n",
       "funny          2\n",
       "cool           2\n",
       "text           2\n",
       "date           3\n",
       "dtype: int64"
      ]
     },
     "execution_count": 6,
     "metadata": {},
     "output_type": "execute_result"
    }
   ],
   "source": [
    "review.isna().sum()"
   ]
  },
  {
   "cell_type": "code",
   "execution_count": 7,
   "id": "f720fd30",
   "metadata": {},
   "outputs": [],
   "source": [
    "# Drop missing values in text column\n",
    "review.dropna(subset=['text'], inplace=True)"
   ]
  },
  {
   "cell_type": "code",
   "execution_count": 8,
   "id": "06269edc",
   "metadata": {},
   "outputs": [],
   "source": [
    "# Drop columns that are not relevant\n",
    "review.drop(columns=['date'], inplace=True)"
   ]
  },
  {
   "cell_type": "markdown",
   "id": "954841f6",
   "metadata": {},
   "source": [
    "#### <font color=red> below cell takes a while to run (let it run overnight) </font>"
   ]
  },
  {
   "cell_type": "code",
   "execution_count": 9,
   "id": "8befd089",
   "metadata": {},
   "outputs": [],
   "source": [
    "# It takes a while to run\n",
    "review['review_sentiment_score'] = review.text.apply(overall_sentiment_score)"
   ]
  },
  {
   "cell_type": "markdown",
   "id": "f57a5270",
   "metadata": {},
   "source": [
    "<br>\n",
    "\n",
    "## 2.3. Tip sentiment score"
   ]
  },
  {
   "cell_type": "code",
   "execution_count": 10,
   "id": "c41814f4",
   "metadata": {},
   "outputs": [
    {
     "name": "stdout",
     "output_type": "stream",
     "text": [
      "(639331, 5)\n",
      "user_id             object\n",
      "business_id         object\n",
      "text                object\n",
      "date                object\n",
      "compliment_count     int64\n",
      "dtype: object\n"
     ]
    }
   ],
   "source": [
    "# Load and check data shape, data type\n",
    "tip = pd.read_csv('data/tip.csv', low_memory=False)\n",
    "print(tip.shape)\n",
    "print(tip.dtypes)"
   ]
  },
  {
   "cell_type": "code",
   "execution_count": 11,
   "id": "b07f3f1e",
   "metadata": {},
   "outputs": [
    {
     "data": {
      "text/plain": [
       "user_id             0\n",
       "business_id         0\n",
       "text                3\n",
       "date                0\n",
       "compliment_count    0\n",
       "dtype: int64"
      ]
     },
     "execution_count": 11,
     "metadata": {},
     "output_type": "execute_result"
    }
   ],
   "source": [
    "tip.isna().sum()"
   ]
  },
  {
   "cell_type": "code",
   "execution_count": 12,
   "id": "9b30fa28",
   "metadata": {},
   "outputs": [],
   "source": [
    "# Drop missing values in text column\n",
    "tip.dropna(subset=['text'],inplace=True)"
   ]
  },
  {
   "cell_type": "code",
   "execution_count": 13,
   "id": "e3dc5f08",
   "metadata": {},
   "outputs": [],
   "source": [
    "# Drop columns that are not relevant\n",
    "tip.drop(columns=['date'], inplace=True)"
   ]
  },
  {
   "cell_type": "markdown",
   "id": "f4cf317b",
   "metadata": {},
   "source": [
    "#### <font color=red> below cell takes a while to run (let it run overnight)</font>"
   ]
  },
  {
   "cell_type": "code",
   "execution_count": 14,
   "id": "b530dae0",
   "metadata": {},
   "outputs": [],
   "source": [
    "# It takes a while to run\n",
    "tip['tip_sentiment_score'] = tip.text.apply(overall_sentiment_score)"
   ]
  },
  {
   "cell_type": "markdown",
   "id": "b1c10904",
   "metadata": {},
   "source": [
    "<br>\n",
    "\n",
    "## 2.4. Store data for subsequent use"
   ]
  },
  {
   "cell_type": "code",
   "execution_count": 15,
   "id": "4d95cfda",
   "metadata": {},
   "outputs": [],
   "source": [
    "# Store sentiment score in a separate file\n",
    "review.to_csv('data/review_sentiment.csv', index=False)"
   ]
  },
  {
   "cell_type": "code",
   "execution_count": 16,
   "id": "8e45da8d",
   "metadata": {},
   "outputs": [],
   "source": [
    "# Store sentiment score in a separate file\n",
    "tip.to_csv('data/tip_sentiment.csv', index=False)"
   ]
  }
 ],
 "metadata": {
  "kernelspec": {
   "display_name": "Python 3 (ipykernel)",
   "language": "python",
   "name": "python3"
  },
  "language_info": {
   "codemirror_mode": {
    "name": "ipython",
    "version": 3
   },
   "file_extension": ".py",
   "mimetype": "text/x-python",
   "name": "python",
   "nbconvert_exporter": "python",
   "pygments_lexer": "ipython3",
   "version": "3.9.18"
  }
 },
 "nbformat": 4,
 "nbformat_minor": 5
}
